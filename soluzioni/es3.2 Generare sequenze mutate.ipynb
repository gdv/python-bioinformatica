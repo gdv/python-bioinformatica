{
 "cells": [
  {
   "cell_type": "code",
   "execution_count": 6,
   "metadata": {
    "collapsed": false
   },
   "outputs": [],
   "source": [
    "import random\n",
    "\n",
    "numero_sequenze = 5\n",
    "prob_singola_mutazione = 0.05\n",
    "prob_transizioni = { 'A': 0.4, 'C': 0.2, 'G': 0.2, 'T': 0.2 }\n",
    "    \n",
    "def mutazione1(carattere):\n",
    "    nuovo = carattere\n",
    "    \n",
    "    # Muta effettivamente il carattere con probabilità ```prob_singola_mutazione```\n",
    "    if random.random() < prob_singola_mutazione:\n",
    "        while nuovo == carattere:\n",
    "            nuovo = random.choice('ACGT')\n",
    "    return nuovo\n",
    "\n",
    "def mutazione(sequenza):\n",
    "    return \"\".join([ mutazione1(c) for c in sequenza ])\n",
    "    \n",
    "   \n",
    "with open('../data/esempio.fa') as file: righe = file.readlines()\n",
    "import re\n",
    "geni = []\n",
    "for riga in righe:\n",
    "    riga = riga.rstrip('\\n')\n",
    "    if re.match('^>', riga):\n",
    "        nuovo_gene = {'sequence': ''}\n",
    "        geni.append(nuovo_gene)\n",
    "        nuovo_gene['header'] = re.sub('^>', '', riga)\n",
    "    elif not re.match('^;', riga):\n",
    "        nuovo_gene['sequence'] = nuovo_gene['sequence'] + riga\n",
    "        \n",
    "for gene in geni:\n",
    "    gene['mutate'] = []\n",
    "    for s in range(numero_sequenze):\n",
    "        gene['mutate'].append(mutazione(gene['sequence']))\n"
   ]
  },
  {
   "cell_type": "code",
   "execution_count": null,
   "metadata": {
    "collapsed": true
   },
   "outputs": [],
   "source": []
  }
 ],
 "metadata": {
  "kernelspec": {
   "display_name": "Python 3",
   "language": "python",
   "name": "python3"
  },
  "language_info": {
   "codemirror_mode": {
    "name": "ipython",
    "version": 3
   },
   "file_extension": ".py",
   "mimetype": "text/x-python",
   "name": "python",
   "nbconvert_exporter": "python",
   "pygments_lexer": "ipython3",
   "version": "3.5.2+"
  }
 },
 "nbformat": 4,
 "nbformat_minor": 2
}
