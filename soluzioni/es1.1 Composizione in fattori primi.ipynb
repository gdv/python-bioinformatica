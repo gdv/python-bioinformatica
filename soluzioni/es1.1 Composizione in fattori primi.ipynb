{
 "cells": [
  {
   "cell_type": "code",
   "execution_count": 1,
   "metadata": {
    "collapsed": true
   },
   "outputs": [],
   "source": [
    "def composizione(n):\n",
    "    fattori = {}\n",
    "    while n > 1:\n",
    "        for x in range(2, n + 1):\n",
    "            if n % x == 0:\n",
    "                if x in fattori.keys():\n",
    "                    fattori[x] += 1\n",
    "                else:\n",
    "                     fattori[x] = 1\n",
    "                break\n",
    "        n = n // x\n",
    "    return fattori"
   ]
  },
  {
   "cell_type": "markdown",
   "metadata": {},
   "source": [
    "Controlliamo che il programma sia corretto"
   ]
  },
  {
   "cell_type": "code",
   "execution_count": 2,
   "metadata": {
    "collapsed": false
   },
   "outputs": [
    {
     "name": "stdout",
     "output_type": "stream",
     "text": [
      "{11: 1, 5: 1}\n",
      "{2: 1}\n",
      "{3: 1}\n",
      "{2: 2}\n",
      "{2: 2, 3: 1, 5: 1}\n",
      "{2: 3, 59: 1}\n"
     ]
    }
   ],
   "source": [
    "print(composizione(55))\n",
    "print(composizione(2))\n",
    "print(composizione(3))\n",
    "print(composizione(4))\n",
    "print(composizione(60))\n",
    "print(composizione(472))"
   ]
  },
  {
   "cell_type": "markdown",
   "metadata": {
    "collapsed": true
   },
   "source": [
    "Controlliamo che il programma sia veloce"
   ]
  },
  {
   "cell_type": "code",
   "execution_count": 3,
   "metadata": {
    "collapsed": false
   },
   "outputs": [
    {
     "name": "stdout",
     "output_type": "stream",
     "text": [
      "{482033: 1, 2: 1, 7: 2}\n",
      "CPU times: user 48 ms, sys: 0 ns, total: 48 ms\n",
      "Wall time: 45.5 ms\n",
      "{103409: 1, 6525991: 1, 7: 1}\n",
      "CPU times: user 596 ms, sys: 4 ms, total: 600 ms\n",
      "Wall time: 599 ms\n",
      "{2351: 1, 3: 1, 5: 1, 7: 1, 56118563: 1, 11: 1, 31: 1}\n",
      "CPU times: user 4.76 s, sys: 0 ns, total: 4.76 s\n",
      "Wall time: 4.75 s\n"
     ]
    }
   ],
   "source": [
    "%time print(composizione(47239234))\n",
    "%time print(composizione(4723923423233))\n",
    "%time print(composizione(4723923423453465))"
   ]
  },
  {
   "cell_type": "markdown",
   "metadata": {},
   "source": [
    "```fattori``` è un contatore, perchè per ogni fattore viene conteggiato il numero di volte che lo incontro.\n",
    "Quindi posso usare ```Counter```."
   ]
  },
  {
   "cell_type": "code",
   "execution_count": 4,
   "metadata": {
    "collapsed": false
   },
   "outputs": [],
   "source": [
    "from collections import Counter\n",
    "def composizione(n):\n",
    "    fattori = Counter()\n",
    "    while n > 1:\n",
    "        for x in range(2, n + 1):\n",
    "            if n % x == 0:\n",
    "                fattori[x] += 1\n",
    "                break\n",
    "        n = n // x\n",
    "    return fattori"
   ]
  },
  {
   "cell_type": "code",
   "execution_count": 5,
   "metadata": {
    "collapsed": false
   },
   "outputs": [
    {
     "name": "stdout",
     "output_type": "stream",
     "text": [
      "Counter({11: 1, 5: 1})\n",
      "Counter({2: 1})\n",
      "Counter({3: 1})\n",
      "Counter({2: 2})\n",
      "Counter({2: 2, 3: 1, 5: 1})\n",
      "Counter({2: 3, 59: 1})\n"
     ]
    }
   ],
   "source": [
    "print(composizione(55))\n",
    "print(composizione(2))\n",
    "print(composizione(3))\n",
    "print(composizione(4))\n",
    "print(composizione(60))\n",
    "print(composizione(472))"
   ]
  },
  {
   "cell_type": "code",
   "execution_count": 6,
   "metadata": {
    "collapsed": false
   },
   "outputs": [
    {
     "name": "stdout",
     "output_type": "stream",
     "text": [
      "Counter({7: 2, 482033: 1, 2: 1})\n",
      "CPU times: user 44 ms, sys: 0 ns, total: 44 ms\n",
      "Wall time: 44.7 ms\n",
      "Counter({103409: 1, 6525991: 1, 7: 1})\n",
      "CPU times: user 588 ms, sys: 0 ns, total: 588 ms\n",
      "Wall time: 586 ms\n",
      "Counter({2351: 1, 3: 1, 5: 1, 7: 1, 56118563: 1, 11: 1, 31: 1})\n",
      "CPU times: user 4.91 s, sys: 0 ns, total: 4.91 s\n",
      "Wall time: 4.91 s\n"
     ]
    }
   ],
   "source": [
    "%time print(composizione(47239234))\n",
    "%time print(composizione(4723923423233))\n",
    "%time print(composizione(4723923423453465))"
   ]
  },
  {
   "cell_type": "markdown",
   "metadata": {},
   "source": [
    "Costruiamo un programma più veloce, considerando come fattori primi solo 2 e i numeri dispari"
   ]
  },
  {
   "cell_type": "code",
   "execution_count": 7,
   "metadata": {
    "collapsed": false
   },
   "outputs": [],
   "source": [
    "from collections import Counter\n",
    "def composizione(n):\n",
    "    fattori = Counter()\n",
    "    # Divido per 2\n",
    "    while n % 2 == 0:\n",
    "        fattori[2] += 1\n",
    "        n = n // 2\n",
    "        \n",
    "    while n > 1:\n",
    "        for x in range(3, n + 1, 2):\n",
    "            if n % x == 0:\n",
    "                fattori[x] += 1\n",
    "                break\n",
    "        n = n // x\n",
    "    return fattori"
   ]
  },
  {
   "cell_type": "code",
   "execution_count": 8,
   "metadata": {
    "collapsed": false
   },
   "outputs": [
    {
     "name": "stdout",
     "output_type": "stream",
     "text": [
      "Counter({11: 1, 5: 1})\n",
      "Counter({2: 1})\n",
      "Counter({3: 1})\n",
      "Counter({2: 2})\n",
      "Counter({2: 2, 3: 1, 5: 1})\n",
      "Counter({2: 3, 59: 1})\n"
     ]
    }
   ],
   "source": [
    "print(composizione(55))\n",
    "print(composizione(2))\n",
    "print(composizione(3))\n",
    "print(composizione(4))\n",
    "print(composizione(60))\n",
    "print(composizione(472))"
   ]
  },
  {
   "cell_type": "code",
   "execution_count": 9,
   "metadata": {
    "collapsed": false
   },
   "outputs": [
    {
     "name": "stdout",
     "output_type": "stream",
     "text": [
      "Counter({7: 2, 482033: 1, 2: 1})\n",
      "CPU times: user 28 ms, sys: 4 ms, total: 32 ms\n",
      "Wall time: 30.5 ms\n",
      "Counter({103409: 1, 6525991: 1, 7: 1})\n",
      "CPU times: user 300 ms, sys: 0 ns, total: 300 ms\n",
      "Wall time: 298 ms\n",
      "Counter({2351: 1, 3: 1, 5: 1, 7: 1, 56118563: 1, 11: 1, 31: 1})\n",
      "CPU times: user 2.38 s, sys: 4 ms, total: 2.38 s\n",
      "Wall time: 2.38 s\n"
     ]
    }
   ],
   "source": [
    "%time print(composizione(47239234))\n",
    "%time print(composizione(4723923423233))\n",
    "%time print(composizione(4723923423453465))"
   ]
  },
  {
   "cell_type": "markdown",
   "metadata": {},
   "source": [
    "Uso la seguente proprietà. \n",
    "Se n non è un numero primo, allora esiste un fattore primo di n che è minore della radice quadrata di n."
   ]
  },
  {
   "cell_type": "code",
   "execution_count": 10,
   "metadata": {
    "collapsed": false
   },
   "outputs": [],
   "source": [
    "from collections import Counter\n",
    "from math import sqrt\n",
    "def composizione(n):\n",
    "    fattori = Counter()\n",
    "    # Divido per 2\n",
    "    while n % 2 == 0:\n",
    "        fattori[2] += 1\n",
    "        n = n // 2\n",
    "        \n",
    "    while n > 1:\n",
    "        # Salvo in fattore il più piccolo fattore primo di n che trovo\n",
    "        # Ci sono 2 possibilità:\n",
    "        # 1. n è primo, quindi il più piccolo fattore primo sarà n\n",
    "        # 2. n non è primo, quindi il più piccolo fattore primo un numero dispari pari al massimo alla\n",
    "        #    radice quadrata di n\n",
    "        fattore = n\n",
    "        for x in range(3, int(sqrt(n)) + 1, 2):\n",
    "            if n % x == 0:\n",
    "                fattore = x\n",
    "                break\n",
    "        fattori[fattore] += 1\n",
    "        n = n // fattore\n",
    "                \n",
    "    return fattori"
   ]
  },
  {
   "cell_type": "code",
   "execution_count": 11,
   "metadata": {
    "collapsed": false
   },
   "outputs": [
    {
     "name": "stdout",
     "output_type": "stream",
     "text": [
      "Counter({11: 1, 5: 1})\n",
      "Counter({2: 1})\n",
      "Counter({3: 1})\n",
      "Counter({2: 2})\n",
      "Counter({2: 2, 3: 1, 5: 1})\n",
      "Counter({2: 3, 59: 1})\n"
     ]
    }
   ],
   "source": [
    "print(composizione(55))\n",
    "print(composizione(2))\n",
    "print(composizione(3))\n",
    "print(composizione(4))\n",
    "print(composizione(60))\n",
    "print(composizione(472))"
   ]
  },
  {
   "cell_type": "code",
   "execution_count": 12,
   "metadata": {
    "collapsed": false
   },
   "outputs": [
    {
     "name": "stdout",
     "output_type": "stream",
     "text": [
      "Counter({7: 2, 482033: 1, 2: 1})\n",
      "CPU times: user 0 ns, sys: 0 ns, total: 0 ns\n",
      "Wall time: 539 µs\n",
      "Counter({103409: 1, 6525991: 1, 7: 1})\n",
      "CPU times: user 8 ms, sys: 0 ns, total: 8 ms\n",
      "Wall time: 5.79 ms\n",
      "Counter({2351: 1, 3: 1, 5: 1, 7: 1, 56118563: 1, 11: 1, 31: 1})\n",
      "CPU times: user 0 ns, sys: 0 ns, total: 0 ns\n",
      "Wall time: 538 µs\n"
     ]
    }
   ],
   "source": [
    "%time print(composizione(47239234))\n",
    "%time print(composizione(4723923423233))\n",
    "%time print(composizione(4723923423453465))"
   ]
  },
  {
   "cell_type": "code",
   "execution_count": 18,
   "metadata": {
    "collapsed": true
   },
   "outputs": [],
   "source": [
    "fattorizzazione = composizione(47239234)"
   ]
  },
  {
   "cell_type": "code",
   "execution_count": 19,
   "metadata": {
    "collapsed": false
   },
   "outputs": [],
   "source": [
    "primi = sorted(fattorizzazione.keys())"
   ]
  },
  {
   "cell_type": "code",
   "execution_count": 20,
   "metadata": {
    "collapsed": false
   },
   "outputs": [
    {
     "data": {
      "text/plain": [
       "['2*1', '7*2', '482033*1']"
      ]
     },
     "execution_count": 20,
     "metadata": {},
     "output_type": "execute_result"
    }
   ],
   "source": [
    "[ str(p) + \" ** \" + str(fattorizzazione[p]) for p in primi]"
   ]
  },
  {
   "cell_type": "code",
   "execution_count": 23,
   "metadata": {
    "collapsed": false
   },
   "outputs": [
    {
     "data": {
      "text/plain": [
       "'2 ** 1 * 7 ** 2 * 482033 ** 1'"
      ]
     },
     "execution_count": 23,
     "metadata": {},
     "output_type": "execute_result"
    }
   ],
   "source": [
    "\" * \".join([ str(p) + \" ** \" + str(fattorizzazione[p]) for p in primi])"
   ]
  }
 ],
 "metadata": {
  "kernelspec": {
   "display_name": "Python 3",
   "language": "python",
   "name": "python3"
  },
  "language_info": {
   "codemirror_mode": {
    "name": "ipython",
    "version": 3
   },
   "file_extension": ".py",
   "mimetype": "text/x-python",
   "name": "python",
   "nbconvert_exporter": "python",
   "pygments_lexer": "ipython3",
   "version": "3.5.2+"
  }
 },
 "nbformat": 4,
 "nbformat_minor": 2
}
