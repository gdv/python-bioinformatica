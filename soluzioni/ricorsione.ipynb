{
 "cells": [
  {
   "cell_type": "code",
   "execution_count": 5,
   "metadata": {
    "collapsed": true
   },
   "outputs": [],
   "source": [
    "l = 3"
   ]
  },
  {
   "cell_type": "code",
   "execution_count": 12,
   "metadata": {
    "collapsed": true
   },
   "outputs": [],
   "source": [
    "def extend(s):\n",
    "    if len(s) < l:\n",
    "        for t in [s + c for c in 'ACGT']:\n",
    "            print(t)\n",
    "            extend(t)"
   ]
  },
  {
   "cell_type": "code",
   "execution_count": 31,
   "metadata": {},
   "outputs": [
    {
     "name": "stdout",
     "output_type": "stream",
     "text": [
      "AAA\n",
      "AAC\n",
      "AAG\n",
      "AAT\n",
      "ACA\n",
      "ACC\n",
      "ACG\n",
      "ACT\n",
      "AGA\n",
      "AGC\n",
      "AGG\n",
      "AGT\n",
      "ATA\n",
      "ATC\n",
      "ATG\n",
      "ATT\n",
      "CAA\n",
      "CAC\n",
      "CAG\n",
      "CAT\n",
      "CCA\n",
      "CCC\n",
      "CCG\n",
      "CCT\n",
      "CGA\n",
      "CGC\n",
      "CGG\n",
      "CGT\n",
      "CTA\n",
      "CTC\n",
      "CTG\n",
      "CTT\n",
      "GAA\n",
      "GAC\n",
      "GAG\n",
      "GAT\n",
      "GCA\n",
      "GCC\n",
      "GCG\n",
      "GCT\n",
      "GGA\n",
      "GGC\n",
      "GGG\n",
      "GGT\n",
      "GTA\n",
      "GTC\n",
      "GTG\n",
      "GTT\n",
      "TAA\n",
      "TAC\n",
      "TAG\n",
      "TAT\n",
      "TCA\n",
      "TCC\n",
      "TCG\n",
      "TCT\n",
      "TGA\n",
      "TGC\n",
      "TGG\n",
      "TGT\n",
      "TTA\n",
      "TTC\n",
      "TTG\n",
      "TTT\n"
     ]
    }
   ],
   "source": [
    "lista = ['']\n",
    "\n",
    "while len(lista) > 0:\n",
    "    primo = lista.pop(0)\n",
    "    if len(primo) == l:\n",
    "        print(primo)\n",
    "    else:\n",
    "        lista.extend([primo + c for c in 'ACGT'])\n"
   ]
  },
  {
   "cell_type": "code",
   "execution_count": 30,
   "metadata": {},
   "outputs": [],
   "source": [
    "lista.extend?"
   ]
  },
  {
   "cell_type": "code",
   "execution_count": 14,
   "metadata": {},
   "outputs": [
    {
     "name": "stdout",
     "output_type": "stream",
     "text": [
      "ACA\n",
      "ACC\n",
      "ACG\n",
      "ACT\n"
     ]
    }
   ],
   "source": [
    "extend('AC')"
   ]
  },
  {
   "cell_type": "code",
   "execution_count": 16,
   "metadata": {},
   "outputs": [
    {
     "name": "stdout",
     "output_type": "stream",
     "text": [
      "A\n",
      "AA\n",
      "AAA\n",
      "AAC\n",
      "AAG\n",
      "AAT\n",
      "AC\n",
      "ACA\n",
      "ACC\n",
      "ACG\n",
      "ACT\n",
      "AG\n",
      "AGA\n",
      "AGC\n",
      "AGG\n",
      "AGT\n",
      "AT\n",
      "ATA\n",
      "ATC\n",
      "ATG\n",
      "ATT\n",
      "C\n",
      "CA\n",
      "CAA\n",
      "CAC\n",
      "CAG\n",
      "CAT\n",
      "CC\n",
      "CCA\n",
      "CCC\n",
      "CCG\n",
      "CCT\n",
      "CG\n",
      "CGA\n",
      "CGC\n",
      "CGG\n",
      "CGT\n",
      "CT\n",
      "CTA\n",
      "CTC\n",
      "CTG\n",
      "CTT\n",
      "G\n",
      "GA\n",
      "GAA\n",
      "GAC\n",
      "GAG\n",
      "GAT\n",
      "GC\n",
      "GCA\n",
      "GCC\n",
      "GCG\n",
      "GCT\n",
      "GG\n",
      "GGA\n",
      "GGC\n",
      "GGG\n",
      "GGT\n",
      "GT\n",
      "GTA\n",
      "GTC\n",
      "GTG\n",
      "GTT\n",
      "T\n",
      "TA\n",
      "TAA\n",
      "TAC\n",
      "TAG\n",
      "TAT\n",
      "TC\n",
      "TCA\n",
      "TCC\n",
      "TCG\n",
      "TCT\n",
      "TG\n",
      "TGA\n",
      "TGC\n",
      "TGG\n",
      "TGT\n",
      "TT\n",
      "TTA\n",
      "TTC\n",
      "TTG\n",
      "TTT\n"
     ]
    }
   ],
   "source": [
    "extend('')"
   ]
  },
  {
   "cell_type": "code",
   "execution_count": 48,
   "metadata": {
    "collapsed": true
   },
   "outputs": [],
   "source": [
    "def distanza_hamming(s1, s2):\n",
    "    return len([ a+b for (a,b) in zip(s1, s2) if a!=b ])"
   ]
  },
  {
   "cell_type": "code",
   "execution_count": 49,
   "metadata": {},
   "outputs": [
    {
     "data": {
      "text/plain": [
       "0"
      ]
     },
     "execution_count": 49,
     "metadata": {},
     "output_type": "execute_result"
    }
   ],
   "source": [
    "distanza_hamming('ACC', 'ACC')"
   ]
  },
  {
   "cell_type": "code",
   "execution_count": 50,
   "metadata": {},
   "outputs": [
    {
     "data": {
      "text/plain": [
       "1"
      ]
     },
     "execution_count": 50,
     "metadata": {},
     "output_type": "execute_result"
    }
   ],
   "source": [
    "distanza_hamming('GCC', 'ACC')"
   ]
  },
  {
   "cell_type": "code",
   "execution_count": 51,
   "metadata": {},
   "outputs": [
    {
     "data": {
      "text/plain": [
       "2"
      ]
     },
     "execution_count": 51,
     "metadata": {},
     "output_type": "execute_result"
    }
   ],
   "source": [
    "distanza_hamming('ACC', 'AGG')"
   ]
  },
  {
   "cell_type": "code",
   "execution_count": 52,
   "metadata": {},
   "outputs": [
    {
     "data": {
      "text/plain": [
       "3"
      ]
     },
     "execution_count": 52,
     "metadata": {},
     "output_type": "execute_result"
    }
   ],
   "source": [
    "distanza_hamming('ACC', 'GGG')"
   ]
  },
  {
   "cell_type": "code",
   "execution_count": 53,
   "metadata": {},
   "outputs": [
    {
     "data": {
      "text/plain": [
       "0"
      ]
     },
     "execution_count": 53,
     "metadata": {},
     "output_type": "execute_result"
    }
   ],
   "source": [
    "distanza_hamming('ACC', 'AC')"
   ]
  },
  {
   "cell_type": "code",
   "execution_count": 54,
   "metadata": {},
   "outputs": [
    {
     "data": {
      "text/plain": [
       "0"
      ]
     },
     "execution_count": 54,
     "metadata": {},
     "output_type": "execute_result"
    }
   ],
   "source": [
    "distanza_hamming('ACC', '')"
   ]
  }
 ],
 "metadata": {
  "kernelspec": {
   "display_name": "Python 3",
   "language": "python",
   "name": "python3"
  },
  "language_info": {
   "codemirror_mode": {
    "name": "ipython",
    "version": 3
   },
   "file_extension": ".py",
   "mimetype": "text/x-python",
   "name": "python",
   "nbconvert_exporter": "python",
   "pygments_lexer": "ipython3",
   "version": "3.6.2"
  }
 },
 "nbformat": 4,
 "nbformat_minor": 2
}
