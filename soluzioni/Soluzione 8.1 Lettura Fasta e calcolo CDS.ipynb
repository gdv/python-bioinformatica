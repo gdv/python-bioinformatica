{
 "cells": [
  {
   "cell_type": "code",
   "execution_count": 45,
   "metadata": {
    "collapsed": false
   },
   "outputs": [],
   "source": [
    "from Bio import SeqIO\n",
    "from Bio.Seq import Seq\n",
    "from Bio.Alphabet import IUPAC\n",
    "import re\n",
    "\n",
    "records = list(SeqIO.parse(\"../data/esempio.fa\", \"fasta\"))"
   ]
  },
  {
   "cell_type": "code",
   "execution_count": 64,
   "metadata": {
    "collapsed": false
   },
   "outputs": [],
   "source": [
    "def taglia_da_start(s):\n",
    "    m = re.search('ATG', str(s))\n",
    "    if m == None:\n",
    "        return None\n",
    "    start = m.start(0)\n",
    "    return s[start: start + ((len(s) - start +1) // 3) * 3]"
   ]
  },
  {
   "cell_type": "code",
   "execution_count": 65,
   "metadata": {
    "collapsed": false
   },
   "outputs": [
    {
     "name": "stderr",
     "output_type": "stream",
     "text": [
      "/home/gianluca/.miniconda/lib/python3.6/site-packages/Bio/Seq.py:2071: BiopythonWarning: Partial codon, len(sequence) not a multiple of three. Explicitly trim the sequence or add trailing N before translation. This may become an error in future.\n",
      "  BiopythonWarning)\n"
     ]
    }
   ],
   "source": [
    "geni = [record.seq for record in records]\n",
    "risultati = []\n",
    "for gene in geni:\n",
    "    for frame in [0, 1, 2]:\n",
    "        risultati.append(taglia_da_start(gene[frame:]).translate(to_stop=True))\n",
    "        risultati.append(taglia_da_start(gene[frame:].reverse_complement()).translate(to_stop=True))"
   ]
  },
  {
   "cell_type": "code",
   "execution_count": 66,
   "metadata": {
    "collapsed": false
   },
   "outputs": [
    {
     "data": {
      "text/plain": [
       "[Seq('MVRHAPPHRWAQPRGYKQCWRLAGQAS', ExtendedIUPACProtein()),\n",
       " Seq('MMGTPHP', ExtendedIUPACProtein()),\n",
       " Seq('MVRHAPPHRWAQPRGYKQCWRLAGQAS', ExtendedIUPACProtein()),\n",
       " Seq('MMGTPHP', ExtendedIUPACProtein()),\n",
       " Seq('MVRHAPPHRWAQPRGYKQCWRLAGQAS', ExtendedIUPACProtein()),\n",
       " Seq('MMGTPHP', ExtendedIUPACProtein()),\n",
       " Seq('MALSAEDRALVRALWKKLGSNVGVYTTEALERCGRLGAPAPRGPPSPSPPDAPH...SEP', ExtendedIUPACProtein()),\n",
       " Seq('MVFSLY', ExtendedIUPACProtein()),\n",
       " Seq('MALSAEDRALVRALWKKLGSNVGVYTTEALERCGRLGAPAPRGPPSPSPPDAPH...SEP', ExtendedIUPACProtein()),\n",
       " Seq('MVFSLY', ExtendedIUPACProtein()),\n",
       " Seq('MALSAEDRALVRALWKKLGSNVGVYTTEALERCGRLGAPAPRGPPSPSPPDAPH...SEP', ExtendedIUPACProtein()),\n",
       " Seq('MVFSLY', ExtendedIUPACProtein())]"
      ]
     },
     "execution_count": 66,
     "metadata": {},
     "output_type": "execute_result"
    }
   ],
   "source": [
    "risultati"
   ]
  }
 ],
 "metadata": {
  "kernelspec": {
   "display_name": "Python 3",
   "language": "python",
   "name": "python3"
  },
  "language_info": {
   "codemirror_mode": {
    "name": "ipython",
    "version": 3
   },
   "file_extension": ".py",
   "mimetype": "text/x-python",
   "name": "python",
   "nbconvert_exporter": "python",
   "pygments_lexer": "ipython3",
   "version": "3.6.0"
  }
 },
 "nbformat": 4,
 "nbformat_minor": 2
}
