{
 "cells": [
  {
   "cell_type": "code",
   "execution_count": 5,
   "metadata": {
    "collapsed": false
   },
   "outputs": [],
   "source": [
    "with open('../data/esempio.fa') as file: righe = file.readlines()"
   ]
  },
  {
   "cell_type": "code",
   "execution_count": 6,
   "metadata": {
    "collapsed": false
   },
   "outputs": [],
   "source": [
    "import re\n",
    "geni = []\n",
    "for riga in righe:\n",
    "    riga = riga.rstrip('\\n')\n",
    "    if re.match('^>', riga):\n",
    "        nuovo_gene = {'sequence': ''}\n",
    "        geni.append(nuovo_gene)\n",
    "        nuovo_gene['header'] = re.sub('^>', '', riga)\n",
    "    elif not re.match('^;', riga):\n",
    "        nuovo_gene['sequence'] = nuovo_gene['sequence'] + riga"
   ]
  },
  {
   "cell_type": "markdown",
   "metadata": {
    "collapsed": true
   },
   "source": [
    "Incollo da wikipedia.\n",
    "Bisogna modificarla a mano, perchè lo start codon, M, W non hanno una forma compressa"
   ]
  },
  {
   "cell_type": "code",
   "execution_count": 20,
   "metadata": {
    "collapsed": true
   },
   "outputs": [],
   "source": [
    "tabella = \"\"\"\n",
    "Ala / A \tGCT, GCC, GCA, GCG \tGCN \tLeu / L \tTTA, TTG, CTT, CTC, CTA, CTG \tYTR, CTN\n",
    "Arg / R \tCGT, CGC, CGA, CGG, AGA, AGG \tCGN, MGR \tLys / K \tAAA, AAG \tAAR\n",
    "Asn / N \tAAT, AAC \tAAY \tMet / M \tATG \tATG\n",
    "Asp / D \tGAT, GAC \tGAY \tPhe / F \tTTT, TTC \tTTY\n",
    "Cys / C \tTGT, TGC \tTGY \tPro / P \tCCT, CCC, CCA, CCG \tCCN\n",
    "Gln / Q \tCAA, CAG \tCAR \tSer / S \tTCT, TCC, TCA, TCG, AGT, AGC \tTCN, AGY\n",
    "Glu / E \tGAA, GAG \tGAR \tThr / T \tACT, ACC, ACA, ACG \tACN\n",
    "Gly / G \tGGT, GGC, GGA, GGG \tGGN \tTrp / W \tTGG \tTGG\n",
    "His / H \tCAT, CAC \tCAY \tTyr / Y \tTAT, TAC \tTAY\n",
    "Ile / I \tATT, ATC, ATA \tATH \tVal / V \tGTT, GTC, GTA, GTG \tGTN\n",
    "START \tATG\tATG \tSTOP \tTAA, TGA, TAG \tTAR, TRA\n",
    "\"\"\""
   ]
  },
  {
   "cell_type": "code",
   "execution_count": 21,
   "metadata": {
    "collapsed": false
   },
   "outputs": [
    {
     "data": {
      "text/plain": [
       "['',\n",
       " 'Ala / A \\tGCT, GCC, GCA, GCG \\tGCN \\tLeu / L \\tTTA, TTG, CTT, CTC, CTA, CTG \\tYTR, CTN',\n",
       " 'Arg / R \\tCGT, CGC, CGA, CGG, AGA, AGG \\tCGN, MGR \\tLys / K \\tAAA, AAG \\tAAR',\n",
       " 'Asn / N \\tAAT, AAC \\tAAY \\tMet / M \\tATG \\tATG',\n",
       " 'Asp / D \\tGAT, GAC \\tGAY \\tPhe / F \\tTTT, TTC \\tTTY',\n",
       " 'Cys / C \\tTGT, TGC \\tTGY \\tPro / P \\tCCT, CCC, CCA, CCG \\tCCN',\n",
       " 'Gln / Q \\tCAA, CAG \\tCAR \\tSer / S \\tTCT, TCC, TCA, TCG, AGT, AGC \\tTCN, AGY',\n",
       " 'Glu / E \\tGAA, GAG \\tGAR \\tThr / T \\tACT, ACC, ACA, ACG \\tACN',\n",
       " 'Gly / G \\tGGT, GGC, GGA, GGG \\tGGN \\tTrp / W \\tTGG \\tTGG',\n",
       " 'His / H \\tCAT, CAC \\tCAY \\tTyr / Y \\tTAT, TAC \\tTAY',\n",
       " 'Ile / I \\tATT, ATC, ATA \\tATH \\tVal / V \\tGTT, GTC, GTA, GTG \\tGTN',\n",
       " 'START \\tATG\\tATG \\tSTOP \\tTAA, TGA, TAG \\tTAR, TRA',\n",
       " '']"
      ]
     },
     "execution_count": 21,
     "metadata": {},
     "output_type": "execute_result"
    }
   ],
   "source": [
    "righe = re.split(\"\\n\", tabella)\n",
    "righe"
   ]
  },
  {
   "cell_type": "code",
   "execution_count": 22,
   "metadata": {
    "collapsed": false
   },
   "outputs": [
    {
     "data": {
      "text/plain": [
       "[['Ala / A ',\n",
       "  'GCT, GCC, GCA, GCG ',\n",
       "  'GCN ',\n",
       "  'Leu / L ',\n",
       "  'TTA, TTG, CTT, CTC, CTA, CTG ',\n",
       "  'YTR, CTN'],\n",
       " ['Arg / R ',\n",
       "  'CGT, CGC, CGA, CGG, AGA, AGG ',\n",
       "  'CGN, MGR ',\n",
       "  'Lys / K ',\n",
       "  'AAA, AAG ',\n",
       "  'AAR'],\n",
       " ['Asn / N ', 'AAT, AAC ', 'AAY ', 'Met / M ', 'ATG ', 'ATG'],\n",
       " ['Asp / D ', 'GAT, GAC ', 'GAY ', 'Phe / F ', 'TTT, TTC ', 'TTY'],\n",
       " ['Cys / C ', 'TGT, TGC ', 'TGY ', 'Pro / P ', 'CCT, CCC, CCA, CCG ', 'CCN'],\n",
       " ['Gln / Q ',\n",
       "  'CAA, CAG ',\n",
       "  'CAR ',\n",
       "  'Ser / S ',\n",
       "  'TCT, TCC, TCA, TCG, AGT, AGC ',\n",
       "  'TCN, AGY'],\n",
       " ['Glu / E ', 'GAA, GAG ', 'GAR ', 'Thr / T ', 'ACT, ACC, ACA, ACG ', 'ACN'],\n",
       " ['Gly / G ', 'GGT, GGC, GGA, GGG ', 'GGN ', 'Trp / W ', 'TGG ', 'TGG'],\n",
       " ['His / H ', 'CAT, CAC ', 'CAY ', 'Tyr / Y ', 'TAT, TAC ', 'TAY'],\n",
       " ['Ile / I ',\n",
       "  'ATT, ATC, ATA ',\n",
       "  'ATH ',\n",
       "  'Val / V ',\n",
       "  'GTT, GTC, GTA, GTG ',\n",
       "  'GTN'],\n",
       " ['START ', 'ATG', 'ATG ', 'STOP ', 'TAA, TGA, TAG ', 'TAR, TRA']]"
      ]
     },
     "execution_count": 22,
     "metadata": {},
     "output_type": "execute_result"
    }
   ],
   "source": [
    "righe_divise = [re.split(\"\\t\", riga) for riga in righe if len(riga) > 1]\n",
    "righe_divise"
   ]
  },
  {
   "cell_type": "code",
   "execution_count": 26,
   "metadata": {
    "collapsed": false
   },
   "outputs": [
    {
     "data": {
      "text/plain": [
       "{'AAA': 'K',\n",
       " 'AAC': 'N',\n",
       " 'AAG': 'K',\n",
       " 'AAT': 'N',\n",
       " 'ACA': 'T',\n",
       " 'ACC': 'T',\n",
       " 'ACG': 'T',\n",
       " 'ACT': 'T',\n",
       " 'AGA': 'R',\n",
       " 'AGC': 'S',\n",
       " 'AGG': 'R',\n",
       " 'AGT': 'S',\n",
       " 'ATA': 'I',\n",
       " 'ATC': 'I',\n",
       " 'ATG': 'START',\n",
       " 'ATT': 'I',\n",
       " 'CAA': 'Q',\n",
       " 'CAC': 'H',\n",
       " 'CAG': 'Q',\n",
       " 'CAT': 'H',\n",
       " 'CCA': 'P',\n",
       " 'CCC': 'P',\n",
       " 'CCG': 'P',\n",
       " 'CCT': 'P',\n",
       " 'CGA': 'R',\n",
       " 'CGC': 'R',\n",
       " 'CGG': 'R',\n",
       " 'CGT': 'R',\n",
       " 'CTA': 'L',\n",
       " 'CTC': 'L',\n",
       " 'CTG': 'L',\n",
       " 'CTT': 'L',\n",
       " 'GAA': 'E',\n",
       " 'GAC': 'D',\n",
       " 'GAG': 'E',\n",
       " 'GAT': 'D',\n",
       " 'GCA': 'A',\n",
       " 'GCC': 'A',\n",
       " 'GCG': 'A',\n",
       " 'GCT': 'A',\n",
       " 'GGA': 'G',\n",
       " 'GGC': 'G',\n",
       " 'GGG': 'G',\n",
       " 'GGT': 'G',\n",
       " 'GTA': 'V',\n",
       " 'GTC': 'V',\n",
       " 'GTG': 'V',\n",
       " 'GTT': 'V',\n",
       " 'TAA': 'STOP',\n",
       " 'TAC': 'Y',\n",
       " 'TAG': 'STOP',\n",
       " 'TAT': 'Y',\n",
       " 'TCA': 'S',\n",
       " 'TCC': 'S',\n",
       " 'TCG': 'S',\n",
       " 'TCT': 'S',\n",
       " 'TGA': 'STOP',\n",
       " 'TGC': 'C',\n",
       " 'TGG': 'W',\n",
       " 'TGT': 'C',\n",
       " 'TTA': 'L',\n",
       " 'TTC': 'F',\n",
       " 'TTG': 'L',\n",
       " 'TTT': 'F'}"
      ]
     },
     "execution_count": 26,
     "metadata": {},
     "output_type": "execute_result"
    }
   ],
   "source": [
    "codice = {}\n",
    "for riga in righe_divise:\n",
    "    for codone in re.split(\",\", re.sub('\\s', '', riga[1])):  \n",
    "        codice[codone] = re.sub('(^.*\\/|\\s*)', '', riga[0])\n",
    "    for codone in re.split(\",\", re.sub('\\s', '', riga[4])):  \n",
    "        codice[codone] = re.sub('(^.*\\/|\\s*)', '', riga[3])\n",
    "codice"
   ]
  },
  {
   "cell_type": "code",
   "execution_count": 29,
   "metadata": {
    "collapsed": false
   },
   "outputs": [
    {
     "data": {
      "text/plain": [
       "'TT'"
      ]
     },
     "execution_count": 29,
     "metadata": {},
     "output_type": "execute_result"
    }
   ],
   "source": [
    "def traduci(dna):\n",
    "    proteina = ''\n",
    "    while (len(dna) >= 3):\n",
    "        codone = dna[0:3]\n",
    "        proteina += codice[codone]\n",
    "        dna = dna[3:]\n",
    "    return proteina\n",
    "\n",
    "traduci('ACGACG')"
   ]
  },
  {
   "cell_type": "code",
   "execution_count": 30,
   "metadata": {
    "collapsed": true
   },
   "outputs": [],
   "source": [
    "for gene in geni:\n",
    "    gene['protein'] = traduci(gene['sequence'])"
   ]
  },
  {
   "cell_type": "code",
   "execution_count": 31,
   "metadata": {
    "collapsed": false
   },
   "outputs": [
    {
     "data": {
      "text/plain": [
       "[{'header': 'HSBGPG Human gene for bone gla protein (BGP)',\n",
       "  'protein': 'GRFPLDPPAPWSGSTARTPLLIAGHSPEGINSAGGWRGRPAESSTOPAAAQRSHRDTSTARTRALTLLALLALAALCIAGQAGECPHLPSGRIAVGAERRKHHGPPLLTPLAGSPFAVSTOPPPCCRLNPFAPALPLQRERREEQAARDAGEGGSTOPGPWGSTOPAGVNQAPFPLQVRSPAVQSPAKVQVSTOPGWTSTOPWVPGPSPLTLVPQSHSPTPATSCLAIRKASLLPTSTOPSSQTQSHLSTARTPAPLLHSLCVQAGGQRGSEETQALPVSSTARTAGVREKAELGQGPASPGWSVGELQQGVASLGCGGGTGSLPWWAPWSPSTARTCRERRDGHFARGLSTARTPPRRVSQSPSPLPGSPGAQEGGVSTOPAQSGLSTOPRVGSTOPPHRLSGGLSALLRPGLGCRSAGLAGNPSSAPLQAPFFPLPLALALTSQPYGCGVPIIPAAPKSTOPTPE',\n",
       "  'sequence': 'GGCAGATTCCCCCTAGACCCGCCCGCACCATGGTCAGGCATGCCCCTCCTCATCGCTGGGCACAGCCCAGAGGGTATAAACAGTGCTGGAGGCTGGCGGGGCAGGCCAGCTGAGTCCTGAGCAGCAGCCCAGCGCAGCCACCGAGACACCATGAGAGCCCTCACACTCCTCGCCCTATTGGCCCTGGCCGCACTTTGCATCGCTGGCCAGGCAGGTGAGTGCCCCCACCTCCCCTCAGGCCGCATTGCAGTGGGGGCTGAGAGGAGGAAGCACCATGGCCCACCTCTTCTCACCCCTTTGGCTGGCAGTCCCTTTGCAGTCTAACCACCTTGTTGCAGGCTCAATCCATTTGCCCCAGCTCTGCCCTTGCAGAGGGAGAGGAGGGAAGAGCAAGCTGCCCGAGACGCAGGGGAAGGAGGATGAGGGCCCTGGGGATGAGCTGGGGTGAACCAGGCTCCCTTTCCTTTGCAGGTGCGAAGCCCAGCGGTGCAGAGTCCAGCAAAGGTGCAGGTATGAGGATGGACCTGATGGGTTCCTGGACCCTCCCCTCTCACCCTGGTCCCTCAGTCTCATTCCCCCACTCCTGCCACCTCCTGTCTGGCCATCAGGAAGGCCAGCCTGCTCCCCACCTGATCCTCCCAAACCCAGAGCCACCTGATGCCTGCCCCTCTGCTCCACAGCCTTTGTGTCCAAGCAGGAGGGCAGCGAGGTAGTGAAGAGACCCAGGCGCTACCTGTATCAATGGCTGGGGTGAGAGAAAAGGCAGAGCTGGGCCAAGGCCCTGCCTCTCCGGGATGGTCTGTGGGGGAGCTGCAGCAGGGAGTGGCCTCTCTGGGTTGTGGTGGGGGTACAGGCAGCCTGCCCTGGTGGGCACCCTGGAGCCCCATGTGTAGGGAGAGGAGGGATGGGCATTTTGCACGGGGGCTGATGCCACCACGTCGGGTGTCTCAGAGCCCCAGTCCCCTACCCGGATCCCCTGGAGCCCAGGAGGGAGGTGTGTGAGCTCAATCCGGACTGTGACGAGTTGGCTGACCACATCGGCTTTCAGGAGGCCTATCGGCGCTTCTACGGCCCGGTCTAGGGTGTCGCTCTGCTGGCCTGGCCGGCAACCCCAGTTCTGCTCCTCTCCAGGCACCCTTCTTTCCTCTTCCCCTTGCCCTTGCCCTGACCTCCCAGCCCTATGGATGTGGGGTCCCCATCATCCCAGCTGCTCCCAAATAAACTCCAGAAG'},\n",
       " {'header': 'HSGLTH1 Human theta 1-globin gene',\n",
       "  'protein': 'PLHSPHPANFCVFSRDSTOPIPYSEHLRRGALDPGRFRGPRSELSEIERARSRDLRRGPGPPGGEAAARRPLEAAGPLAGPRRRSGVAGRGGFQRGDGAVRGGPGAGARPVEEAGQQRRRLHDRGPGKVRQAGRPRPQGPSLPKPPGRASPTFLSQDLPGFPRHEDLLLPPGPEPRLLTSQSPRPEGGGRAEPRRGAPGRPTPRAVRAEPPARVPAASGPGQLPGERLPCWAPVPGRAPAGWVRGACGAGAGESTOPALSARRSSWATACWSTOPPSPGTTPETSAPRCRRRWTSSSTOPATLSRRWFPSTAELWVGGRGIPRRPSPCLSKASPRSSLLAVLSRGQDARGRR',\n",
       "  'sequence': 'CCACTGCACTCACCGCACCCGGCCAATTTTTGTGTTTTTAGTAGAGACTAAATACCATATAGTGAACACCTAAGACGGGGGGCCTTGGATCCAGGGCGATTCAGAGGGCCCCGGTCGGAGCTGTCGGAGATTGAGCGCGCGCGGTCCCGGGATCTCCGACGAGGCCCTGGACCCCCGGGCGGCGAAGCTGCGGCGCGGCGCCCCCTGGAGGCCGCGGGACCCCTGGCCGGTCCGCGCAGGCGCAGCGGGGTCGCAGGGCGCGGCGGGTTCCAGCGCGGGGATGGCGCTGTCCGCGGAGGACCGGGCGCTGGTGCGCGCCCTGTGGAAGAAGCTGGGCAGCAACGTCGGCGTCTACACGACAGAGGCCCTGGAAAGGTGCGGCAGGCTGGGCGCCCCCGCCCCCAGGGGCCCTCCCTCCCCAAGCCCCCCGGACGCGCCTCACCCACGTTCCTCTCGCAGGACCTTCCTGGCTTTCCCCGCCACGAAGACCTACTTCTCCCACCTGGACCTGAGCCCCGGCTCCTCACAAGTCAGAGCCCACGGCCAGAAGGTGGCGGACGCGCTGAGCCTCGCCGTGGAGCGCCTGGACGACCTACCCCACGCGCTGTCCGCGCTGAGCCACCTGCACGCGTGCCAGCTGCGAGTGGACCCGGCCAGCTTCCAGGTGAGCGGCTGCCGTGCTGGGCCCCTGTCCCCGGGAGGGCCCCGGCGGGGTGGGTGCGGGGGGCGTGCGGGGCGGGTGCAGGCGAGTGAGCCTTGAGCGCTCGCCGCAGCTCCTGGGCCACTGCCTGCTGGTAACCCTCGCCCGGCACTACCCCGGAGACTTCAGCCCCGCGCTGCAGGCGTCGCTGGACAAGTTCCTGAGCCACGTTATCTCGGCGCTGGTTTCCGAGTACCGCTGAACTGTGGGTGGGTGGCCGCGGGATCCCCAGGCGACCTTCCCCGTGTTTGAGTAAAGCCTCTCCCAGGAGCAGCCTTCTTGCCGTGCTCTCTCGAGGTCAGGACGCGAGAGGAAGGCGC'}]"
      ]
     },
     "execution_count": 31,
     "metadata": {},
     "output_type": "execute_result"
    }
   ],
   "source": [
    "geni"
   ]
  },
  {
   "cell_type": "code",
   "execution_count": null,
   "metadata": {
    "collapsed": true
   },
   "outputs": [],
   "source": []
  }
 ],
 "metadata": {
  "kernelspec": {
   "display_name": "Python 3",
   "language": "python",
   "name": "python3"
  },
  "language_info": {
   "codemirror_mode": {
    "name": "ipython",
    "version": 3
   },
   "file_extension": ".py",
   "mimetype": "text/x-python",
   "name": "python",
   "nbconvert_exporter": "python",
   "pygments_lexer": "ipython3",
   "version": "3.5.2+"
  }
 },
 "nbformat": 4,
 "nbformat_minor": 2
}
