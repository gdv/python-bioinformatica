{
 "cells": [
  {
   "cell_type": "code",
   "execution_count": 9,
   "metadata": {
    "collapsed": false
   },
   "outputs": [
    {
     "name": "stdout",
     "output_type": "stream",
     "text": [
      "ENSTNIP00000002435\n",
      "Seq('GTGTCATTTTCATCTGACACCCCCAGGAAGCCAAAAGCTGGAAGTCTGAGTTCA...CAG', SingleLetterAlphabet())\n",
      "1023\n",
      "ENSMLUP00000012516\n",
      "Seq('ATGCCTATTGGGTGCAAAGAGAGGCCAACCTTTTTTGAAATTTTTGAGACGCGA...AAA', SingleLetterAlphabet())\n",
      "1128\n",
      "ENSXMAP00000006983\n",
      "Seq('ATGGATTCATGCATACAAAACATGTACGATGCATTTAAAGATGAAATCTGGAAA...TAG', SingleLetterAlphabet())\n",
      "879\n",
      "ENSTRUP00000015030\n",
      "Seq('CAGCTGGCACGGGATATGCAGGATATGCGAATCAGAAAAAAGAAACGCCAGACC...TTA', SingleLetterAlphabet())\n",
      "900\n",
      "ENSTGUP00000012130\n",
      "Seq('ATGGCTTGCAAACCTGTGGAAAGACCAACTTTCTTTGAAATATTTAAGGCACAC...ACT', SingleLetterAlphabet())\n",
      "1755\n",
      "ENSXETP00000060681\n",
      "Seq('ATGGCTGCACCGCAACTTGGAAAATCTGTCTTCTATGATCTGTTTAGCACGCAT...TAG', SingleLetterAlphabet())\n",
      "1569\n",
      "ENSAMEP00000009909\n",
      "Seq('ATGCCTATTGGATGCAAAGAGAGGCCTACTTTTTTTGAAATTTTTAAGACGCGA...TGA', SingleLetterAlphabet())\n",
      "1503\n",
      "ENSFALP00000008821\n",
      "Seq('ATGGCTTGCAAACCTGGGGAAAGACCAACTTTCTTTGAAATATTTAAGGCACAC...TAG', SingleLetterAlphabet())\n",
      "1209\n",
      "ENSNLEP00000001277\n",
      "Seq('ATGCCTATTGGATCCAAAGAGAGGCAAACATTTTTTGAAATTTTTAAGACACGC...TAA', SingleLetterAlphabet())\n",
      "1500\n",
      "ENSLACP00000008815\n",
      "Seq('ATGGAATGGGAAGCAGTTGAAAGTGTCAAAGCTTTAATGCGAGATGATGAGCTT...TAA', SingleLetterAlphabet())\n",
      "738\n",
      "ENSLOCP00000009962\n",
      "Seq('ATGATTCAGAATCTGGACTTCGCCCGAGGCATGCAAGAAATGAGGATTCGGAAA...CTG', SingleLetterAlphabet())\n",
      "813\n",
      "ENSBTAP00000001311\n",
      "Seq('ATGCCGATTGGATGCAAAGAGAGGCCAACTTTTTTTGACATTTTTAAGGCGCGA...AGT', SingleLetterAlphabet())\n",
      "1191\n",
      "ENSMODP00000033276\n",
      "Seq('ATGTCAGCTGGATACCAGGGGAAAACAACCTTTTTTGAAGTTTTTAAAACAAGA...TAA', SingleLetterAlphabet())\n",
      "1248\n",
      "ENSSTOP00000004979\n",
      "Seq('ATGCCTATTGGATCCAAAGAGAGGCCAACTTTTTTTGAAATTTTTAAGACGCGA...TTG', SingleLetterAlphabet())\n",
      "1449\n",
      "ENSFCAP00000019777\n",
      "Seq('ATGCCTATTGGATGCAAAGAGAGACCAACTTTTTTTGAAATTTTTAGGACGCGG...TGA', SingleLetterAlphabet())\n",
      "1323\n",
      "ENSPPYP00000005997\n",
      "Seq('ATGCCTGTTGGATCCAAAGAGAGGCCAACATTTTTTGAAATTTTTAAGACACGC...TAA', SingleLetterAlphabet())\n",
      "2088\n",
      "ENSONIP00000006940\n",
      "Seq('ATGTACGAGACATTCAAAGACGAAATCTGGAAAGAACTGGGACCACTGGATCAC...TAG', SingleLetterAlphabet())\n",
      "2019\n",
      "ENSLAFP00000002234\n",
      "Seq('ATGCCTGTTGGATTCAAGGAGAGGCCAACCTTTTTTGAGATTTTTAAGGCCCAA...GGA', SingleLetterAlphabet())\n",
      "1026\n",
      "ENSPTRP00000009812\n",
      "Seq('ATGCCTATTGGATCCAAAGAGAGGCCAACATTTTTTGAAATTTTTAAGACACGC...TAA', SingleLetterAlphabet())\n",
      "1257\n",
      "ENSOANP00000032170\n",
      "Seq('ATGGAAAAGACACACACCGGATCGTATGTGTTTCGCAATGAGCGGGCAGAAGAA...TGA', SingleLetterAlphabet())\n",
      "285\n",
      "ENSPFOP00000001575\n",
      "Seq('ATGGATTCATGCATAAAAAACATGTACGATGCATTTAAGGGTGAAATCTGGAAA...TAG', SingleLetterAlphabet())\n",
      "831\n",
      "ENSCAFP00000009557\n",
      "Seq('ATGCCTGTTGGATGCAAAGAGAGGCCAACATTTTTTGAAATTTTTAAGACGCGG...TGA', SingleLetterAlphabet())\n",
      "861\n",
      "ENSCSAP00000013938\n",
      "Seq('ATGTCTATTGGATCCAAAGAGAGGCCAACATTTTTTGAAATTTTTAAGACACGC...TAT', SingleLetterAlphabet())\n",
      "1260\n",
      "ENSECAP00000013146\n",
      "Seq('ATGCCTATTGGATGCAAAGAGAGGCCATCTTTTTTTGACATTTTTAAGACACGA...AAA', SingleLetterAlphabet())\n",
      "777\n",
      "ENSP00000369497\n",
      "Seq('ATGCCTATTGGATCCAAAGAGAGGCCAACATTTTTTGAAATTTTTAAGACACGC...TAA', SingleLetterAlphabet())\n",
      "1377\n",
      "ENSRNOP00000001475\n",
      "Seq('ATGACCGTTGAATACAAAAGGAGACCAACTTTTTGGGAAATTTTTAAAGCGAGA...TAA', SingleLetterAlphabet())\n",
      "672\n",
      "ENSMUSP00000038576\n",
      "Seq('ATGCCCGTTGAATACAAAAGGAGACCAACTTTTTGGGAAATTTTTAAGGCGAGA...TAG', SingleLetterAlphabet())\n",
      "990\n",
      "ENSGALP00000027524\n",
      "Seq('ATGGCTTACAAATCTGGGAAAAGACCTACTTTCTTTGAAGTATTTAAGGCGCAT...TAG', SingleLetterAlphabet())\n",
      "1314\n",
      "ENSMPUP00000001928\n",
      "Seq('ATGCCTATTGGATGCAAAGAGAGGCCGACTTTTTTTGAAATTTTTAAGACGCGG...TGA', SingleLetterAlphabet())\n",
      "921\n",
      "ENSGACP00000015199\n",
      "Seq('CTTCCCAATGTTGAGCTGGCGCAAGATATGCAAGACATGAGGATCAGGAAAAAG...TTG', SingleLetterAlphabet())\n",
      "873\n",
      "ENSDARP00000099674\n",
      "Seq('ATGTTTGAAAATTTCTTTCATCAAATTGACAGAGAGCTTGGACCCCTTAATCCT...TGA', SingleLetterAlphabet())\n",
      "945\n",
      "ENSPVAP00000000225\n",
      "Seq('TTAGGACCAATAAGCCTTAATTGGTTTGAAGAACTTTCTTCAGAAGCTCCACTC...AGA', SingleLetterAlphabet())\n",
      "528\n",
      "ENSSSCP00000022872\n",
      "Seq('ATAGATTTGATTACAAATCTTCAGATTGCCAGAGATATACAGGATATGCGAATT...TGA', SingleLetterAlphabet())\n",
      "1140\n",
      "ENSOGAP00000009477\n",
      "Seq('ATGTCTGTTGGATCCAAAGAGAGGCCAACTTTCTTTGAAATTTTTAAGACACGA...TCA', SingleLetterAlphabet())\n",
      "1458\n",
      "ENSDNOP00000034947\n",
      "Seq('TGCCCATGGGATCCAAAAAGAGGCCAACTTTTTTTTGAAATTTTTGAGATGCGG...TGA', SingleLetterAlphabet())\n",
      "1593\n",
      "ENSTBEP00000013856\n",
      "Seq('AGAGATGAGGAAACATCCGAAACTGTATTTCCTAATGATACTTCTGCTATTTTG...ATC', SingleLetterAlphabet())\n",
      "1371\n",
      "ENSTTRP00000010004\n",
      "Seq('ATGCCGATTGGATGCAAAGAGAGGCCAACGTTTTTTGAAATTTTTAGGACGCGA...CAA', SingleLetterAlphabet())\n",
      "2361\n",
      "ENSOCUP00000014514\n",
      "Seq('ATGCCTATTGGATCCAAAGAGAGGCCAACTTTATTTGACATTTTTAAGATGCGG...TCT', SingleLetterAlphabet())\n",
      "1440\n",
      "ENSMGAP00000015990\n",
      "Seq('ATGGCTTACAAATTTGGGAAAAGACCTACTTTCTTTGAAGTATTTAAGGCGCAT...TAG', SingleLetterAlphabet())\n",
      "1404\n",
      "ENSCPOP00000004635\n",
      "Seq('ATGCCTATTGGGTCCAAGGAGAGACCAACTTTTTTTGAAATTTTTAAGAGGCGA...TGA', SingleLetterAlphabet())\n",
      "1062\n",
      "ENSAMXP00000013440\n",
      "Seq('ATGATTGAAGACTTCTTTCATCAAATTGAAACAGAAGAGCTTGGGCCTCTTAGT...TGA', SingleLetterAlphabet())\n",
      "903\n",
      "ENSAPLP00000007411\n",
      "Seq('ATGGCTTGCAGATCTGGGGAAAGACCAACCTTCTTTGAAATATTTAAGACGCGT...TAA', SingleLetterAlphabet())\n",
      "1185\n",
      "ENSACAP00000004459\n",
      "Seq('ATGGAAGATACAATTGTGACTCAATCTAAGCCGCAGCATAGATGTAATGCTCTT...TGA', SingleLetterAlphabet())\n",
      "1326\n",
      "ENSOARP00000011988\n",
      "Seq('ATGCCGATTGGATGCAAAGAGAGGCCAACTTTTTTTGACATTTTTAAGACGCGA...TGA', SingleLetterAlphabet())\n",
      "1404\n",
      "ENSPSIP00000012858\n",
      "Seq('ATGGAAAATAAAATGGCTGACAAACCTGTGGCGAGACCAACTTTCTTCGAAATA...TAA', SingleLetterAlphabet())\n",
      "1092\n",
      "ENSSHAP00000012162\n",
      "Seq('TGTTTCCTCACAGATTTAGGGCCAATAAGCCTTAACTGGTTTGAAGAACTTACT...TAA', SingleLetterAlphabet())\n",
      "1188\n",
      "ENSCJAP00000034250\n",
      "Seq('ATGCCTATTGGATCCAAAGAGAGGCCTACTTTTTTTGAAATTTTTAAGACACGC...TAA', SingleLetterAlphabet())\n",
      "990\n",
      "ENSGGOP00000015446\n",
      "Seq('ATGCCTATTGGATCCAAAGAGAGGCCAACATTTTTTGAAATTTTTAAGACACGC...AGG', SingleLetterAlphabet())\n",
      "1239\n",
      "ENSOPRP00000014082\n",
      "Seq('ATGCCTACCGGAACCAAAGAGAGACCAACTTTATTTGAAATTTTTAAGATGCGA...CTG', SingleLetterAlphabet())\n",
      "795\n",
      "ENSMICP00000020948\n",
      "Seq('ATGCCTGTTGGATCCAAAGAGAGGCCGACTTTTTTTGACATTTTTAGGACGCGA...AAA', SingleLetterAlphabet())\n",
      "1593\n",
      "ENSPANP00000002726\n",
      "Seq('ATGTCTATTGGATCCAAAGAGAGGCCAACATTTTTTGAAATTTTTAAGACACGC...TAA', SingleLetterAlphabet())\n",
      "819\n",
      "ENSDORP00000006609\n",
      "Seq('ATGCCTATTGAATCCCCAGGGAGACCAACATTTTTTGAAATTTTTAAGACACAA...AAA', SingleLetterAlphabet())\n",
      "1221\n",
      "ENSMMUP00000009432\n",
      "Seq('ATGTCTATTGGATCCAAAGAGAGGCCAACATTTTTTGAAATTTTTAAGACACGC...TGA', SingleLetterAlphabet())\n",
      "1641\n",
      "ENSOANP00000024376\n",
      "Seq('ATGCCTGTCGAACCCAAGGAAAGGCCAACCTTCTTTGAAATTTTTAAGGCTCGA...TGA', SingleLetterAlphabet())\n",
      "1380\n",
      "ENSETEP00000003277\n",
      "Seq('CTGGTTGGAACCAAAGAGAGGCCAACGTTTTTTGAGATTTTTAAAGCTCGATGT...GAA', SingleLetterAlphabet())\n",
      "1005\n",
      "ENSGMOP00000010385\n",
      "Seq('CTCGCGCGGGACCTCCAGGACATGAGGCTCAGGAAGAAGAAGCGCCAGACCGTG...TAA', SingleLetterAlphabet())\n",
      "714\n",
      "ENSVPAP00000000821\n",
      "Seq('ATGCCTATTGGATGCAAAGAGAGGCCAACTTTTTTTGAAATTTTTAGGACGCGA...CAA', SingleLetterAlphabet())\n",
      "1656\n",
      "ENSEEUP00000008968\n",
      "Seq('ATGCCTGTTGGATGCAAAGAGAGGCCAACTTTTTTTGAAATTTTTAAAAGACGA...TAA', SingleLetterAlphabet())\n",
      "1398\n",
      "ENSMEUP00000009812\n",
      "Seq('AAGGATAATAGTCAGAAAAGTCGTTACATAATGAAGACCAAATTAGGTCAAGCA...ATC', SingleLetterAlphabet())\n",
      "888\n",
      "ENSTSYP00000000441\n",
      "Seq('ATGCCTATTGGATCCAAAGAGAGGCCAACTTTTTTTGAAATTTTTAAGACACGA...TAA', SingleLetterAlphabet())\n",
      "1491\n",
      "ENSPCAP00000000440\n",
      "Seq('ATGCCTGTCGGATTCAAGGAGAGGCCAACCTTTTTTGAGATTTTTAAGGCACGG...GGC', SingleLetterAlphabet())\n",
      "1482\n",
      "ENSCHOP00000007822\n",
      "Seq('ATGCCTGTTCGAGCCAAAAAGAGGCCAACTTTTTTTGAAGTTTTTAAGATGCGG...GAA', SingleLetterAlphabet())\n",
      "1548\n"
     ]
    }
   ],
   "source": [
    "from Bio import SeqIO\n",
    "records = list(SeqIO.parse(\"data/Human_BRCA2_orthologues2.fa\", \"fasta\"))\n",
    "for seq_record in records:\n",
    "    print(seq_record.id)\n",
    "    print(repr(seq_record.seq))\n",
    "    print(len(seq_record))"
   ]
  },
  {
   "cell_type": "code",
   "execution_count": 10,
   "metadata": {
    "collapsed": true
   },
   "outputs": [],
   "source": [
    "record1 = records[0]"
   ]
  },
  {
   "cell_type": "code",
   "execution_count": 11,
   "metadata": {
    "collapsed": false
   },
   "outputs": [
    {
     "data": {
      "text/plain": [
       "SeqRecord(seq=Seq('GTGTCATTTTCATCTGACACCCCCAGGAAGCCAAAAGCTGGAAGTCTGAGTTCA...CAG', SingleLetterAlphabet()), id='ENSTNIP00000002435', name='ENSTNIP00000002435', description='ENSTNIP00000002435', dbxrefs=[])"
      ]
     },
     "execution_count": 11,
     "metadata": {},
     "output_type": "execute_result"
    }
   ],
   "source": [
    "record1"
   ]
  },
  {
   "cell_type": "markdown",
   "metadata": {},
   "source": [
    "Estrazione di una sequenza da un SeqRecord"
   ]
  },
  {
   "cell_type": "code",
   "execution_count": 12,
   "metadata": {
    "collapsed": false
   },
   "outputs": [
    {
     "data": {
      "text/plain": [
       "Seq('GTGTCATTTTCATCTGACACCCCCAGGAAGCCAAAAGCTGGAAGTCTGAGTTCA...CAG', SingleLetterAlphabet())"
      ]
     },
     "execution_count": 12,
     "metadata": {},
     "output_type": "execute_result"
    }
   ],
   "source": [
    "record1.seq"
   ]
  },
  {
   "cell_type": "markdown",
   "metadata": {},
   "source": [
    "Formato Genbank\n",
    "1.  Scaricare il file [ls_orchid.gbk](https://raw.githubusercontent.com/biopython/biopython/master/Doc/examples/ls_orchid.gbk)"
   ]
  },
  {
   "cell_type": "code",
   "execution_count": 13,
   "metadata": {
    "collapsed": false
   },
   "outputs": [
    {
     "name": "stdout",
     "output_type": "stream",
     "text": [
      "94\n",
      "ID: Z78533.1\n",
      "Name: Z78533\n",
      "Description: C.irapeanum 5.8S rRNA gene and ITS1 and ITS2 DNA.\n",
      "Number of features: 5\n",
      "/date=30-NOV-2006\n",
      "/gi=2765658\n",
      "/taxonomy=['Eukaryota', 'Viridiplantae', 'Streptophyta', 'Embryophyta', 'Tracheophyta', 'Spermatophyta', 'Magnoliophyta', 'Liliopsida', 'Asparagales', 'Orchidaceae', 'Cypripedioideae', 'Cypripedium']\n",
      "/references=[Reference(title='Phylogenetics of the slipper orchids (Cypripedioideae: Orchidaceae): nuclear rDNA ITS sequences', ...), Reference(title='Direct Submission', ...)]\n",
      "/organism=Cypripedium irapeanum\n",
      "/keywords=['5.8S ribosomal RNA', '5.8S rRNA gene', 'internal transcribed spacer', 'ITS1', 'ITS2']\n",
      "/topology=linear\n",
      "/data_file_division=PLN\n",
      "/accessions=['Z78533']\n",
      "/source=Cypripedium irapeanum\n",
      "/sequence_version=1\n",
      "Seq('CGTAACAAGGTTTCCGTAGGTGAACCTGCGGAAGGATCATTGATGAGACCGTGG...CGC', IUPACAmbiguousDNA())\n"
     ]
    }
   ],
   "source": [
    "from Bio import SeqIO\n",
    "with open(\"data/ls_orchid.gbk\") as handle:\n",
    "    gb_records = list(SeqIO.parse(handle, \"gb\"))\n",
    "print(len(gb_records))\n",
    "print(gb_records[0])"
   ]
  },
  {
   "cell_type": "markdown",
   "metadata": {},
   "source": [
    "Leggere come dizionario"
   ]
  },
  {
   "cell_type": "code",
   "execution_count": 14,
   "metadata": {
    "collapsed": false
   },
   "outputs": [
    {
     "data": {
      "text/plain": [
       "{'Z78439.1': SeqRecord(seq=Seq('CATTGTTGAGATCACATAATAATTGATCGAGTTAATCTGGAGGATCTGTTTACT...GCC', IUPACAmbiguousDNA()), id='Z78439.1', name='Z78439', description='P.barbatum 5.8S rRNA gene and ITS1 and ITS2 DNA.', dbxrefs=[]),\n",
       " 'Z78440.1': SeqRecord(seq=Seq('CGTAACAAGGTTTCCGTAGGTGGACCTCCGGGAGGATCATTGTTGAGATCACAT...GCA', IUPACAmbiguousDNA()), id='Z78440.1', name='Z78440', description='P.purpuratum 5.8S rRNA gene and ITS1 and ITS2 DNA.', dbxrefs=[]),\n",
       " 'Z78441.1': SeqRecord(seq=Seq('GGAAGGTCATTGCCGATATCACATAATAATTGATCGAGTTAATCTGGAGGATCT...GAG', IUPACAmbiguousDNA()), id='Z78441.1', name='Z78441', description='P.superbiens 5.8S rRNA gene and ITS1 and ITS2 DNA.', dbxrefs=[]),\n",
       " 'Z78442.1': SeqRecord(seq=Seq('GTAGGTGAACCTGCGGAAGGATCATTGTTGAGATCACATAATAATTGATCGAGT...AGT', IUPACAmbiguousDNA()), id='Z78442.1', name='Z78442', description='P.bullenianum 5.8S rRNA gene and ITS1 and ITS2 DNA.', dbxrefs=[]),\n",
       " 'Z78443.1': SeqRecord(seq=Seq('CGTAACAAGGTTTCCGTAGGTGAACCTGCGGAAGGATCATTGTTGAGATCACAT...AGG', IUPACAmbiguousDNA()), id='Z78443.1', name='Z78443', description='P.lawrenceanum 5.8S rRNA gene and ITS1 and ITS2 DNA.', dbxrefs=[]),\n",
       " 'Z78444.1': SeqRecord(seq=Seq('CGTAACAAGGTTTCCGTAGGGTGAACTGCGGAAGGATCATTGTTGAGATCACAT...ATT', IUPACAmbiguousDNA()), id='Z78444.1', name='Z78444', description='P.appletonianum 5.8S rRNA gene and ITS1 and ITS2 DNA.', dbxrefs=[]),\n",
       " 'Z78445.1': SeqRecord(seq=Seq('CGTAACAAGGTTTCCGTAGGTGAACCTGCGGAAGGATCATTGTTGAGATCACAT...TGT', IUPACAmbiguousDNA()), id='Z78445.1', name='Z78445', description='P.urbanianum 5.8S rRNA gene and ITS1 and ITS2 DNA.', dbxrefs=[]),\n",
       " 'Z78446.1': SeqRecord(seq=Seq('CGTAACAAGGTTTCCGTAGGTGAACCTCCGGAAGGATCATTGTTGAGATCACAT...CCC', IUPACAmbiguousDNA()), id='Z78446.1', name='Z78446', description='P.acmodontum 5.8S rRNA gene and ITS1 and ITS2 DNA.', dbxrefs=[]),\n",
       " 'Z78447.1': SeqRecord(seq=Seq('CGTAACAAGGATTCCGTAGGTGAACCTGCGGGAGGATCATTGTTGAGATCACAT...AGC', IUPACAmbiguousDNA()), id='Z78447.1', name='Z78447', description='P.venustum 5.8S rRNA gene and ITS1 and ITS2 DNA.', dbxrefs=[]),\n",
       " 'Z78448.1': SeqRecord(seq=Seq('CGTAACAAGGTTTCCGTAGGTGAACCTGCGGAAGGATCATTGTTGAGATCACAT...AGG', IUPACAmbiguousDNA()), id='Z78448.1', name='Z78448', description='P.argus 5.8S rRNA gene and ITS1 and ITS2 DNA.', dbxrefs=[]),\n",
       " 'Z78449.1': SeqRecord(seq=Seq('CGTAACAAGGTTTCCGTAGGTGAACCTGCGGAAGGATCATTGTTGAGATCACAT...TGC', IUPACAmbiguousDNA()), id='Z78449.1', name='Z78449', description='P.mastersianum 5.8S rRNA gene and ITS1 and ITS2 DNA.', dbxrefs=[]),\n",
       " 'Z78450.1': SeqRecord(seq=Seq('GGAAGGATCATTGCTGATATCACATAATAATTGATCGAGTTAAGCTGGAGGATC...GAG', IUPACAmbiguousDNA()), id='Z78450.1', name='Z78450', description='P.papuanum 5.8S rRNA gene and ITS1 and ITS2 DNA.', dbxrefs=[]),\n",
       " 'Z78451.1': SeqRecord(seq=Seq('CGTAACAAGGTTTCCGTAGGTGTACCTCCGGAAGGATCATTGTTGAGATCACAT...AGC', IUPACAmbiguousDNA()), id='Z78451.1', name='Z78451', description='P.hookerae 5.8S rRNA gene and ITS1 and ITS2 DNA.', dbxrefs=[]),\n",
       " 'Z78452.1': SeqRecord(seq=Seq('CGTAACAAGGTTTCCGTAGGTGAACCTGCGGAAGGATCATTGTTGAGATCACAT...GCA', IUPACAmbiguousDNA()), id='Z78452.1', name='Z78452', description='P.bougainvilleanum 5.8S rRNA gene and ITS1 and ITS2 DNA.', dbxrefs=[]),\n",
       " 'Z78453.1': SeqRecord(seq=Seq('CGTAACAAGGTTTCCGTAGGTGAACCTGCGGAAGGATCATTGTTGAGATCACAT...GCA', IUPACAmbiguousDNA()), id='Z78453.1', name='Z78453', description='P.schoseri 5.8S rRNA gene and ITS1 and ITS2 DNA.', dbxrefs=[]),\n",
       " 'Z78454.1': SeqRecord(seq=Seq('CGTAACAAGGTTTCCGTAGGTGAACCTGCGGAAGGATCATTGTTGAGATCACAT...AAC', IUPACAmbiguousDNA()), id='Z78454.1', name='Z78454', description='P.fowliei 5.8S rRNA gene and ITS1 and ITS2 DNA.', dbxrefs=[]),\n",
       " 'Z78455.1': SeqRecord(seq=Seq('CGTAACCAGGTTTCCGTAGGTGGACCTTCGGGAGGATCATTTTTGAGATCACAT...GCA', IUPACAmbiguousDNA()), id='Z78455.1', name='Z78455', description='P.javanicum 5.8S rRNA gene and ITS1 and ITS2 DNA.', dbxrefs=[]),\n",
       " 'Z78456.1': SeqRecord(seq=Seq('CGTAACAAGGTTTCCGTAGGTGAACCTGCGGAAGGATCATTGTTGAGATCACAT...AGC', IUPACAmbiguousDNA()), id='Z78456.1', name='Z78456', description='P.tonsum 5.8S rRNA gene and ITS1 and ITS2 DNA.', dbxrefs=[]),\n",
       " 'Z78457.1': SeqRecord(seq=Seq('CGTAACAAGGTTTCCGTAGGTGAACCTCCGGAAGGATCATTGTTGAGATCACAT...GAG', IUPACAmbiguousDNA()), id='Z78457.1', name='Z78457', description='P.callosum 5.8S rRNA gene and ITS1 and ITS2 DNA.', dbxrefs=[]),\n",
       " 'Z78458.1': SeqRecord(seq=Seq('CGTAACAAGGTTTCCGTAGGTGAACCTGCGGAAGGATCATTGTTGAGATCACAT...TTG', IUPACAmbiguousDNA()), id='Z78458.1', name='Z78458', description='P.hennisianum 5.8S rRNA gene and ITS1 and ITS2 DNA.', dbxrefs=[]),\n",
       " 'Z78459.1': SeqRecord(seq=Seq('CGTAACAAGGTTTCCGTAGGTGAACCTGCGGAAGGATCATTGTTGAGATCACAT...TTT', IUPACAmbiguousDNA()), id='Z78459.1', name='Z78459', description='P.dayanum 5.8S rRNA gene and ITS1 and ITS2 DNA.', dbxrefs=[]),\n",
       " 'Z78460.1': SeqRecord(seq=Seq('CGTAACAAGGTTTCCGTAGGTGAACCTCCGGAAGGATCATTGTTGAGATCACAT...TTA', IUPACAmbiguousDNA()), id='Z78460.1', name='Z78460', description='P.ciliolare 5.8S rRNA gene and ITS1 and ITS2 DNA.', dbxrefs=[]),\n",
       " 'Z78461.1': SeqRecord(seq=Seq('CGTAACAAGGTTTCCGTAGGTGAACCTCCGGAAGGATCATTGTTGAGATCACAT...TAA', IUPACAmbiguousDNA()), id='Z78461.1', name='Z78461', description='P.wardii 5.8S rRNA gene and ITS1 and ITS2 DNA.', dbxrefs=[]),\n",
       " 'Z78462.1': SeqRecord(seq=Seq('CGTCACGAGGTCTCCGGATGTGACCCTGCGGAAGGATCATTGTTGAGATCACAT...CAT', IUPACAmbiguousDNA()), id='Z78462.1', name='Z78462', description='P.sukhakulii 5.8S rRNA gene and ITS1 and ITS2 DNA.', dbxrefs=[]),\n",
       " 'Z78463.1': SeqRecord(seq=Seq('CGTAACAAGGTTTCCGTAGGTGAACCTGCGGAAGGTTCATTGTTGAGATCACAT...AGC', IUPACAmbiguousDNA()), id='Z78463.1', name='Z78463', description='P.glanduliferum 5.8S rRNA gene and ITS1 and ITS2 DNA.', dbxrefs=[]),\n",
       " 'Z78464.1': SeqRecord(seq=Seq('CGTAACAAGGTTTCCGTAGGTGAGCGGAAGGGTCATTGTTGAGATCACATAATA...AGC', IUPACAmbiguousDNA()), id='Z78464.1', name='Z78464', description='P.glanduliferum 5.8S rRNA gene and ITS1 and ITS2 DNA.', dbxrefs=[]),\n",
       " 'Z78465.1': SeqRecord(seq=Seq('CGTAACAAGGTTTCCGTAGGTGAACCTGCGGAAGGATCATTGTTGAGATCACAT...TGC', IUPACAmbiguousDNA()), id='Z78465.1', name='Z78465', description='P.rothschildianum 5.8S rRNA gene and ITS1 and ITS2 DNA.', dbxrefs=[]),\n",
       " 'Z78466.1': SeqRecord(seq=Seq('CGTAACAAGGTTTCCGTAGGTGAACCTGCGGAAGGATCATTGTTGAGATCACAT...CCC', IUPACAmbiguousDNA()), id='Z78466.1', name='Z78466', description='P.philippinense 5.8S rRNA gene and ITS1 and ITS2 DNA.', dbxrefs=[]),\n",
       " 'Z78467.1': SeqRecord(seq=Seq('CGTAACAAGGTTTCCGTAGGTGAACCTGCGGAAGGATCATTGTTGAGATCACAT...TGA', IUPACAmbiguousDNA()), id='Z78467.1', name='Z78467', description='P.stonei 5.8S rRNA gene and ITS1 and ITS2 DNA.', dbxrefs=[]),\n",
       " 'Z78468.1': SeqRecord(seq=Seq('CGTAACAAGGTTTCCGTAGGTGAACCTGCGGAAGGATCATTGTTGAGATCGCAT...GTT', IUPACAmbiguousDNA()), id='Z78468.1', name='Z78468', description='P.adductum 5.8S rRNA gene and ITS1 and ITS2 DNA.', dbxrefs=[]),\n",
       " 'Z78469.1': SeqRecord(seq=Seq('CGTAACAAGGTTTCCGTAGGTGAACCTGCGGAAGGATCATTGTTGAGATCACAT...GTT', IUPACAmbiguousDNA()), id='Z78469.1', name='Z78469', description='P.haynaldianum 5.8S rRNA gene and ITS1 and ITS2 DNA.', dbxrefs=[]),\n",
       " 'Z78470.1': SeqRecord(seq=Seq('CGTAACAAGGTTTCCGTAGGTGAACCTGCGGAAGGATCATTGTTGAGATCACAT...GTT', IUPACAmbiguousDNA()), id='Z78470.1', name='Z78470', description='P.parishii 5.8S rRNA gene and ITS1 and ITS2 DNA.', dbxrefs=[]),\n",
       " 'Z78471.1': SeqRecord(seq=Seq('CGTAACAAGGTTTCCGTAGGTGAACCTGCGGAAGGATCATTGTTGAGATCACAT...AGC', IUPACAmbiguousDNA()), id='Z78471.1', name='Z78471', description='P.dianthum 5.8S rRNA gene and ITS1 and ITS2 DNA.', dbxrefs=[]),\n",
       " 'Z78472.1': SeqRecord(seq=Seq('CGTAACAAGGTTTCCGTAGGTGAACCTGCGGAAGGATCATTGTTGAGATCACAT...AGC', IUPACAmbiguousDNA()), id='Z78472.1', name='Z78472', description='P.lowii 5.8S rRNA gene and ITS1 and ITS2 DNA.', dbxrefs=[]),\n",
       " 'Z78473.1': SeqRecord(seq=Seq('CGTAACAAGGTTTCCGTAGGTGAACCTGCGGAAGGATCATTGTTGAGATCACAT...AGG', IUPACAmbiguousDNA()), id='Z78473.1', name='Z78473', description='P.sanderianum 5.8S rRNA gene and ITS1 and ITS2 DNA.', dbxrefs=[]),\n",
       " 'Z78474.1': SeqRecord(seq=Seq('CGTAACAAGGTTTCCGTAGGTGAACCTGCGGAAGGATCATTGTTGAGATCACGT...CTT', IUPACAmbiguousDNA()), id='Z78474.1', name='Z78474', description='P.kolopakingii 5.8S rRNA gene and ITS1 and ITS2 DNA.', dbxrefs=[]),\n",
       " 'Z78475.1': SeqRecord(seq=Seq('CGTAACAAGGTTTCCGTAGGTGAACCTGCGGAAGGATCATTGTTGAGATCACAT...GGT', IUPACAmbiguousDNA()), id='Z78475.1', name='Z78475', description='P.supardii 5.8S rRNA gene and ITS1 and ITS2 DNA.', dbxrefs=[]),\n",
       " 'Z78476.1': SeqRecord(seq=Seq('CGTAACAAGGTTTCCGTAGGTGAACCTGCGGAAGGATCATTGTTGAGATCACAT...CCC', IUPACAmbiguousDNA()), id='Z78476.1', name='Z78476', description='P.glaucophyllum 5.8S rRNA gene and ITS1 and ITS2 DNA.', dbxrefs=[]),\n",
       " 'Z78477.1': SeqRecord(seq=Seq('CGTAACAAGGTTTCCGTAGGTGAACCTGCGGAAGGATCATTGTTGAGATCACAT...TGC', IUPACAmbiguousDNA()), id='Z78477.1', name='Z78477', description='P.victoria 5.8S rRNA gene and ITS1 and ITS2 DNA.', dbxrefs=[]),\n",
       " 'Z78478.1': SeqRecord(seq=Seq('CGTAACAAGGTTTCCGTAGGTGAACCTCCGGAAGGATCAGTGTTGAGATCACAT...GGC', IUPACAmbiguousDNA()), id='Z78478.1', name='Z78478', description='P.victoria 5.8S rRNA gene and ITS1 and ITS2 DNA.', dbxrefs=[]),\n",
       " 'Z78479.1': SeqRecord(seq=Seq('CGTAACAAGGTTTCCGTAGGTGAACCTGCGGAAGGATCATTGTTGAGATCACAT...AGT', IUPACAmbiguousDNA()), id='Z78479.1', name='Z78479', description='P.primulinum 5.8S rRNA gene and ITS1 and ITS2 DNA.', dbxrefs=[]),\n",
       " 'Z78480.1': SeqRecord(seq=Seq('CGTAACAAGGTTTCCGTAGGTGAACCTGCGGAAGGATCATTGTTGAGATCACAT...TGA', IUPACAmbiguousDNA()), id='Z78480.1', name='Z78480', description='P.gratrixianum 5.8S rRNA gene and ITS1 and ITS2 DNA.', dbxrefs=[]),\n",
       " 'Z78481.1': SeqRecord(seq=Seq('CGTAACAAGGTTTCCGTAGGTGAACCTGCGGAAGGATCATTGTTGAGATCACAT...TGA', IUPACAmbiguousDNA()), id='Z78481.1', name='Z78481', description='P.insigne 5.8S rRNA gene and ITS1 and ITS2 DNA.', dbxrefs=[]),\n",
       " 'Z78482.1': SeqRecord(seq=Seq('TCTACTGCAGTGACCGAGATTTGCCATCGAGCCTCCTGGGAGCTTTCTTGCTGG...GCA', IUPACAmbiguousDNA()), id='Z78482.1', name='Z78482', description='P.exul 5.8S rRNA gene and ITS1 and ITS2 DNA.', dbxrefs=[]),\n",
       " 'Z78483.1': SeqRecord(seq=Seq('CGTAACAAGGTTTCCGTAGGTGAACCTGCGGAAGGATCATTGTTGAGATCACAT...GCA', IUPACAmbiguousDNA()), id='Z78483.1', name='Z78483', description='P.villosum 5.8S rRNA gene and ITS1 and ITS2 DNA.', dbxrefs=[]),\n",
       " 'Z78484.1': SeqRecord(seq=Seq('CGTAACAAGGTTTCCGTAGGTGAACCTGGGGAAGGATCATTGTTGAGATCACAT...TTT', IUPACAmbiguousDNA()), id='Z78484.1', name='Z78484', description='P.charlesworthii 5.8S rRNA gene and ITS1 and ITS2 DNA.', dbxrefs=[]),\n",
       " 'Z78485.1': SeqRecord(seq=Seq('CTGAACCTGGTGTCCGAAGGTGAATCTGCGGATGGATCATTGTTGAGATATCAT...GTA', IUPACAmbiguousDNA()), id='Z78485.1', name='Z78485', description='P.henryanum 5.8S rRNA gene and ITS1 and ITS2 DNA.', dbxrefs=[]),\n",
       " 'Z78486.1': SeqRecord(seq=Seq('CGTCACGAGGTTTCCGTAGGTGAATCTGCGGGAGGATCATTGTTGAGATCACAT...TGA', IUPACAmbiguousDNA()), id='Z78486.1', name='Z78486', description='P.barbigerum 5.8S rRNA gene and ITS1 and ITS2 DNA.', dbxrefs=[]),\n",
       " 'Z78487.1': SeqRecord(seq=Seq('CGTAACAAGGTTTCCGTAGGTGAACCTGCGGAAGGATCATTGTTGAGATCACAT...TAA', IUPACAmbiguousDNA()), id='Z78487.1', name='Z78487', description='P.hirsutissimum 5.8S rRNA gene and ITS1 and ITS2 DNA.', dbxrefs=[]),\n",
       " 'Z78488.1': SeqRecord(seq=Seq('CTGTAGGTGAACCTGCGGAAGGATCATTGTTGAGATCACGCAATAATTGATCGA...GCT', IUPACAmbiguousDNA()), id='Z78488.1', name='Z78488', description='P.tigrinum 5.8S rRNA gene and ITS1 and ITS2 DNA.', dbxrefs=[]),\n",
       " 'Z78489.1': SeqRecord(seq=Seq('CGTAACAAGGTTTCCGTAGGTGAACCTGCGGAAGGATCATTGTTGAGATCACAT...GGC', IUPACAmbiguousDNA()), id='Z78489.1', name='Z78489', description='P.druryi 5.8S rRNA gene and ITS1 and ITS2 DNA.', dbxrefs=[]),\n",
       " 'Z78490.1': SeqRecord(seq=Seq('CGTAACAAGGTTTCCGTAGGTGAACCTGCGGAAGGATCATTGTTGAGATCACAT...TGA', IUPACAmbiguousDNA()), id='Z78490.1', name='Z78490', description='P.fairrieanum 5.8S rRNA gene and ITS1 and ITS2 DNA.', dbxrefs=[]),\n",
       " 'Z78491.1': SeqRecord(seq=Seq('CGTAACAAGGTTTCCGTAGGTGAACCTGCGGAAGGATCATTGTTGAGATCGCAT...AGC', IUPACAmbiguousDNA()), id='Z78491.1', name='Z78491', description='P.concolor 5.8S rRNA gene and ITS1 and ITS2 DNA.', dbxrefs=[]),\n",
       " 'Z78492.1': SeqRecord(seq=Seq('CGTAACAAGGTTTCCGTAGGTGAACCTGCGGAAGGATCATTGTTGAGATCGCAT...ATA', IUPACAmbiguousDNA()), id='Z78492.1', name='Z78492', description='P.bellatulum 5.8S rRNA gene and ITS1 and ITS2 DNA.', dbxrefs=[]),\n",
       " 'Z78493.1': SeqRecord(seq=Seq('CGTAACAAGGATTCCGTAGGTGAACCTGCGGAAGGATCATTGTTGAGATCGCAT...CCC', IUPACAmbiguousDNA()), id='Z78493.1', name='Z78493', description='P.godefroyae 5.8S rRNA gene and ITS1 and ITS2 DNA.', dbxrefs=[]),\n",
       " 'Z78494.1': SeqRecord(seq=Seq('CGTAACAAGGTTTCCGTAGGTGAACCTGCGGAAGGATCATTGTTGAGGTCGCAT...AAG', IUPACAmbiguousDNA()), id='Z78494.1', name='Z78494', description='P.niveum 5.8S rRNA gene and ITS1 and ITS2 DNA.', dbxrefs=[]),\n",
       " 'Z78495.1': SeqRecord(seq=Seq('CGTAACAAGGTTTCCGTAGGTGAACCTCCGGAAGGATCATTGTTGAGATCACAT...GTG', IUPACAmbiguousDNA()), id='Z78495.1', name='Z78495', description='P.emersonii 5.8S rRNA gene and ITS1 and ITS2 DNA.', dbxrefs=[]),\n",
       " 'Z78496.1': SeqRecord(seq=Seq('CGTAACAAGGTTTCCGTAGGTGAACCTGCGGAAGGATCATTGTTGAGATCGCAT...AGC', IUPACAmbiguousDNA()), id='Z78496.1', name='Z78496', description='P.armeniacum 5.8S rRNA gene and ITS1 and ITS2 DNA.', dbxrefs=[]),\n",
       " 'Z78497.1': SeqRecord(seq=Seq('CGTAACAAGGTTTCCGTAGGTGAACCTGCGGAAGGATCATTGTTGAGATCACAT...AGC', IUPACAmbiguousDNA()), id='Z78497.1', name='Z78497', description='P.delenatii 5.8S rRNA gene and ITS1 and ITS2 DNA.', dbxrefs=[]),\n",
       " 'Z78498.1': SeqRecord(seq=Seq('CGTAACAAGGTTTCCGTAGGTGAACCTGCGGAAAGGTCATTGTTGAGATCACAT...AGC', IUPACAmbiguousDNA()), id='Z78498.1', name='Z78498', description='P.malipoense 5.8S rRNA gene and ITS1 and ITS2 DNA.', dbxrefs=[]),\n",
       " 'Z78499.1': SeqRecord(seq=Seq('CGTAACAAGGTTTCCGTAGGTGAACCTGCGGAGGGATCATTGTTGAGATCGCAT...ACC', IUPACAmbiguousDNA()), id='Z78499.1', name='Z78499', description='P.micranthum 5.8S rRNA gene and ITS1 and ITS2 DNA.', dbxrefs=[]),\n",
       " 'Z78500.1': SeqRecord(seq=Seq('CGTAACAAGGTTTCCGTAGGTGAACCTGCGGAAGGCTCATTGTTGAGACCGCAA...AAG', IUPACAmbiguousDNA()), id='Z78500.1', name='Z78500', description='P.warszewiczianum 5.8S rRNA gene and ITS1 and ITS2 DNA.', dbxrefs=[]),\n",
       " 'Z78501.1': SeqRecord(seq=Seq('CGTAACAAGGTTTCCGTAGGTGAACCTGCGGAAGGATCATTGTTGAGACCGCAA...AGA', IUPACAmbiguousDNA()), id='Z78501.1', name='Z78501', description='P.caudatum 5.8S rRNA gene and ITS1 and ITS2 DNA.', dbxrefs=[]),\n",
       " 'Z78502.1': SeqRecord(seq=Seq('CGTAACCAGGTTTCCGTAGGTGAACCTCCGGAAGGATCATTGTTGAGACCGCCA...CGC', IUPACAmbiguousDNA()), id='Z78502.1', name='Z78502', description='P.boissierianum 5.8S rRNA gene and ITS1 and ITS2 DNA.', dbxrefs=[]),\n",
       " 'Z78503.1': SeqRecord(seq=Seq('CGTAACCAGGTTTCCGTAGGTGAACCTCCGGAAGGATCCTTGTTGAGACCGCCA...TAA', IUPACAmbiguousDNA()), id='Z78503.1', name='Z78503', description='P.czerwiakowianum 5.8S rRNA gene and ITS1 and ITS2 DNA.', dbxrefs=[]),\n",
       " 'Z78504.1': SeqRecord(seq=Seq('CGTAACAAGGTTTCCGTAGGTGAACCTTCGGAAGGATCATTGTTGAGACCGCAA...TAA', IUPACAmbiguousDNA()), id='Z78504.1', name='Z78504', description='P.kaiteurum 5.8S rRNA gene and ITS1 and ITS2 DNA.', dbxrefs=[]),\n",
       " 'Z78505.1': SeqRecord(seq=Seq('CGTAACAAGGTTTCCGTAGGTGAACCTGCGGAAGGATCATTGTTGAGACCGCCA...TTT', IUPACAmbiguousDNA()), id='Z78505.1', name='Z78505', description='P.sargentianum 5.8S rRNA gene and ITS1 and ITS2 DNA.', dbxrefs=[]),\n",
       " 'Z78506.1': SeqRecord(seq=Seq('CGTAACAAGGTTTCCGTAGGTGAACCTGCGGAAGGATCATTGTTGAGACCGCAA...TGA', IUPACAmbiguousDNA()), id='Z78506.1', name='Z78506', description='P.lindleyanum 5.8S rRNA gene and ITS1 and ITS2 DNA.', dbxrefs=[]),\n",
       " 'Z78507.1': SeqRecord(seq=Seq('CGTAACAAGGTTTCCGTAGGTGAACCTGCGGAAGGATCATTGTTGAGACCCCCA...TGA', IUPACAmbiguousDNA()), id='Z78507.1', name='Z78507', description='P.lindenii 5.8S rRNA gene and ITS1 and ITS2 DNA.', dbxrefs=[]),\n",
       " 'Z78508.1': SeqRecord(seq=Seq('CGTAACAAGGTTTCCGTAGGTGAACCTGCGGAAGGATCATTGTTGAGACCGCCA...TGA', IUPACAmbiguousDNA()), id='Z78508.1', name='Z78508', description='P.longifolium 5.8S rRNA gene and ITS1 and ITS2 DNA.', dbxrefs=[]),\n",
       " 'Z78509.1': SeqRecord(seq=Seq('CGTAACAAGGTTTCCGTAGGTGAACCTGCGGAAGGATCATTGTTGAGACCGCCA...GGA', IUPACAmbiguousDNA()), id='Z78509.1', name='Z78509', description='P.pearcei 5.8S rRNA gene and ITS1 and ITS2 DNA.', dbxrefs=[]),\n",
       " 'Z78510.1': SeqRecord(seq=Seq('CTAACCAGGGTTCCGAGGTGACCTTCGGGAGGATTCCTTTTTAAGCCCCCGAAA...TTA', IUPACAmbiguousDNA()), id='Z78510.1', name='Z78510', description='P.caricinum 5.8S rRNA gene and ITS1 and ITS2 DNA.', dbxrefs=[]),\n",
       " 'Z78511.1': SeqRecord(seq=Seq('CGTAACAAGGTTTCCGTAGGTGAACCTTCGGAAGGATCATTGTTGAGACCCCCA...GGA', IUPACAmbiguousDNA()), id='Z78511.1', name='Z78511', description='P.exstaminodium 5.8S rRNA gene and ITS1 and ITS2 DNA.', dbxrefs=[]),\n",
       " 'Z78512.1': SeqRecord(seq=Seq('CGTAACAAGGTTTCCGTAGGTGGACCTTCGGGAGGATCATTTTTGAAGCCCCCA...AGC', IUPACAmbiguousDNA()), id='Z78512.1', name='Z78512', description='P.wallisii 5.8S rRNA gene and ITS1 and ITS2 DNA.', dbxrefs=[]),\n",
       " 'Z78513.1': SeqRecord(seq=Seq('CGTAACAAGGTTTCCGTAGGTGAACCTGCGGAAGGATCATTGTTGAGACCGCCA...GAG', IUPACAmbiguousDNA()), id='Z78513.1', name='Z78513', description='P.besseae 5.8S rRNA gene and ITS1 and ITS2 DNA.', dbxrefs=[]),\n",
       " 'Z78514.1': SeqRecord(seq=Seq('CGTAACAAGGTTTCCGTAGGTGGACCTTCGGGAGGATCATTTTTGAAGCCCCCA...CTA', IUPACAmbiguousDNA()), id='Z78514.1', name='Z78514', description='P.schlimii 5.8S rRNA gene and ITS1 and ITS2 DNA.', dbxrefs=[]),\n",
       " 'Z78515.1': SeqRecord(seq=Seq('CGTAACAAGGTTTCCGTAGGTGAACCTGCGGAAGGATCATTGCTGAGACCGTAG...AGC', IUPACAmbiguousDNA()), id='Z78515.1', name='Z78515', description='M.xerophyticum 5.8S rRNA gene and ITS1 and ITS2 DNA.', dbxrefs=[]),\n",
       " 'Z78516.1': SeqRecord(seq=Seq('CGTAACAAGGTTTCCGTAGGTGAACCTGCGGAAGGATCATTGTTGAGACAGTAT...TAA', IUPACAmbiguousDNA()), id='Z78516.1', name='Z78516', description='C.passerinum 5.8S rRNA gene and ITS1 and ITS2 DNA.', dbxrefs=[]),\n",
       " 'Z78517.1': SeqRecord(seq=Seq('CGTAACAAGGTTTCCGTAGGTGAACCTGCGGAAGGATCATTGTTGAGACAGTAG...AGC', IUPACAmbiguousDNA()), id='Z78517.1', name='Z78517', description='C.flavum 5.8S rRNA gene and ITS1 and ITS2 DNA.', dbxrefs=[]),\n",
       " 'Z78518.1': SeqRecord(seq=Seq('CGTAACAAGGTTTCCGTAGGTGAACCTGCGGGAGGATCATTGTTGAGATAGTAG...TCC', IUPACAmbiguousDNA()), id='Z78518.1', name='Z78518', description='C.reginae 5.8S rRNA gene and ITS1 and ITS2 DNA.', dbxrefs=[]),\n",
       " 'Z78519.1': SeqRecord(seq=Seq('ATATGATCGAGTGAATCTGGTGGACTTGTGGTTACTCAGCTCGCCATAGGCTTT...TTA', IUPACAmbiguousDNA()), id='Z78519.1', name='Z78519', description='C.pubescens 5.8S rRNA gene and ITS1 and ITS2 DNA.', dbxrefs=[]),\n",
       " 'Z78520.1': SeqRecord(seq=Seq('CGTAACAAGGTTTCCGTAGGTGAACCTGCGGAAGGATCATTGTTGAGACAGCAG...TTT', IUPACAmbiguousDNA()), id='Z78520.1', name='Z78520', description='C.segawai 5.8S rRNA gene and ITS1 and ITS2 DNA.', dbxrefs=[]),\n",
       " 'Z78521.1': SeqRecord(seq=Seq('GTAGGTGAACCTGCGGAAGGATCATTGTTGAGACAGTAGAATATATGATCGAGT...ACC', IUPACAmbiguousDNA()), id='Z78521.1', name='Z78521', description='C.calceolus 5.8S rRNA gene and ITS1 and ITS2 DNA.', dbxrefs=[]),\n",
       " 'Z78522.1': SeqRecord(seq=Seq('CGTAACAAGGTTTCCGTAGGTGAACCTGCGGAAGGATCATTGTTGAGACAGCAG...GAG', IUPACAmbiguousDNA()), id='Z78522.1', name='Z78522', description='C.macranthum 5.8S rRNA gene and ITS1 and ITS2 DNA.', dbxrefs=[]),\n",
       " 'Z78523.1': SeqRecord(seq=Seq('CGTAACCAGGTTTCCGTAGGTGAACCTGCGGCAGGATCATTGTTGAGACAGCAG...AAG', IUPACAmbiguousDNA()), id='Z78523.1', name='Z78523', description='C.himalaicum 5.8S rRNA gene and ITS1 and ITS2 DNA.', dbxrefs=[]),\n",
       " 'Z78524.1': SeqRecord(seq=Seq('CGTAACAAGGTTTCCGTAGGTGAACCTGCGGAAGGATCATTGTTGAGATAGTAG...AGC', IUPACAmbiguousDNA()), id='Z78524.1', name='Z78524', description='C.formosanum 5.8S rRNA gene and ITS1 and ITS2 DNA.', dbxrefs=[]),\n",
       " 'Z78525.1': SeqRecord(seq=Seq('TGTTGAGATAGCAGAATATACATCGAGTGAATCCGGAGGACCTGTGGTTATTCG...GCA', IUPACAmbiguousDNA()), id='Z78525.1', name='Z78525', description='C.acaule 5.8S rRNA gene and ITS1 and ITS2 DNA.', dbxrefs=[]),\n",
       " 'Z78526.1': SeqRecord(seq=Seq('CGTAACAAGGTTTCCGTAGGTGAACCTGCGGAAGGATCATTGTTGAGACAGTAG...TGT', IUPACAmbiguousDNA()), id='Z78526.1', name='Z78526', description='C.guttatum 5.8S rRNA gene and ITS1 and ITS2 DNA.', dbxrefs=[]),\n",
       " 'Z78527.1': SeqRecord(seq=Seq('CGTAACAAGGTTTCCGTAGGTGAACCTGCGGAAGGATCATTGTTGAGACAGTAG...CCC', IUPACAmbiguousDNA()), id='Z78527.1', name='Z78527', description='C.yatabeanum 5.8S rRNA gene and ITS1 and ITS2 DNA.', dbxrefs=[]),\n",
       " 'Z78529.1': SeqRecord(seq=Seq('ACGGCGAGCTGCCGAAGGACATTGTTGAGACAGCAGAATATACGATTGAGTGAA...AAA', IUPACAmbiguousDNA()), id='Z78529.1', name='Z78529', description='C.lichiangense 5.8S rRNA gene and ITS1 and ITS2 DNA.', dbxrefs=[]),\n",
       " 'Z78530.1': SeqRecord(seq=Seq('CGTAACAAGGTTTCCGTAGGTGAACCTGCGGAAGGATCATTGTTGAAACAACAT...CAT', IUPACAmbiguousDNA()), id='Z78530.1', name='Z78530', description='C.margaritaceum 5.8S rRNA gene and ITS1 and ITS2 DNA.', dbxrefs=[]),\n",
       " 'Z78531.1': SeqRecord(seq=Seq('CGTAACAAGGTTTCCGTAGGTGAACCTGCGGAAGGATCATTGTTGAGACAGCAG...TAA', IUPACAmbiguousDNA()), id='Z78531.1', name='Z78531', description='C.fasciculatum 5.8S rRNA gene and ITS1 and ITS2 DNA.', dbxrefs=[]),\n",
       " 'Z78532.1': SeqRecord(seq=Seq('CGTAACAAGGTTTCCGTAGGTGAACCTGCGGAAGGATCATTGTTGAGACAACAG...GGC', IUPACAmbiguousDNA()), id='Z78532.1', name='Z78532', description='C.californicum 5.8S rRNA gene and ITS1 and ITS2 DNA.', dbxrefs=[]),\n",
       " 'Z78533.1': SeqRecord(seq=Seq('CGTAACAAGGTTTCCGTAGGTGAACCTGCGGAAGGATCATTGATGAGACCGTGG...CGC', IUPACAmbiguousDNA()), id='Z78533.1', name='Z78533', description='C.irapeanum 5.8S rRNA gene and ITS1 and ITS2 DNA.', dbxrefs=[])}"
      ]
     },
     "execution_count": 14,
     "metadata": {},
     "output_type": "execute_result"
    }
   ],
   "source": [
    "from Bio import SeqIO\n",
    "dizionario = SeqIO.to_dict(SeqIO.parse(\"data/ls_orchid.gbk\", \"genbank\"))\n",
    "dizionario"
   ]
  },
  {
   "cell_type": "markdown",
   "metadata": {},
   "source": [
    "Leggere da banca dati: Genbank e Swissprot"
   ]
  },
  {
   "cell_type": "code",
   "execution_count": 18,
   "metadata": {
    "collapsed": false
   },
   "outputs": [
    {
     "data": {
      "text/plain": [
       "SeqRecord(seq=Seq('TATACATTAAAGGAGGGGGATGCGGATAAATGGAAAGGCGAAAGAAAGAAAAAA...AGA', IUPACAmbiguousDNA()), id='AF191665.1', name='AF191665', description='Opuntia marenae rpl16 gene; chloroplast gene for chloroplast product, partial intron sequence.', dbxrefs=[])"
      ]
     },
     "execution_count": 18,
     "metadata": {},
     "output_type": "execute_result"
    }
   ],
   "source": [
    "from Bio import Entrez\n",
    "from Bio import SeqIO\n",
    "Entrez.email = \"gianluca@dellavedova.org\"\n",
    "handle = Entrez.efetch(db=\"nucleotide\", rettype=\"gb\", retmode=\"text\", id=\"6273291\")\n",
    "seq_record = SeqIO.read(handle, \"gb\") #using \"gb\" as an alias for \"genbank\"\n",
    "handle.close()\n",
    "seq_record"
   ]
  },
  {
   "cell_type": "code",
   "execution_count": 19,
   "metadata": {
    "collapsed": false
   },
   "outputs": [
    {
     "data": {
      "text/plain": [
       "SeqRecord(seq=Seq('MAPAMEEIRQAQRAEGPAAVLAIGTSTPPNALYQADYPDYYFRITKSEHLTELK...GAE', ProteinAlphabet()), id='O23729', name='CHS3_BROFI', description='RecName: Full=Chalcone synthase 3; EC=2.3.1.74; AltName: Full=Naringenin-chalcone synthase 3;', dbxrefs=['EMBL:AF007097', 'ProteinModelPortal:O23729', 'SMR:O23729', 'PRIDE:O23729', 'UniPathway:UPA00154', 'GO:GO:0016210', 'GO:GO:0009813', 'Gene3D:3.40.47.10', 'InterPro:IPR012328', 'InterPro:IPR018088', 'InterPro:IPR001099', 'InterPro:IPR011141', 'InterPro:IPR016039', 'Pfam:PF02797', 'Pfam:PF00195', 'PIRSF:PIRSF000451', 'SUPFAM:SSF53901', 'PROSITE:PS00441'])"
      ]
     },
     "execution_count": 19,
     "metadata": {},
     "output_type": "execute_result"
    }
   ],
   "source": [
    "from Bio import ExPASy\n",
    "handle = ExPASy.get_sprot_raw(\"O23729\")\n",
    "seq_record = SeqIO.read(handle, \"swiss\")\n",
    "handle.close()\n",
    "seq_record"
   ]
  },
  {
   "cell_type": "markdown",
   "metadata": {},
   "source": [
    "### Sequenze"
   ]
  },
  {
   "cell_type": "code",
   "execution_count": 20,
   "metadata": {
    "collapsed": false
   },
   "outputs": [
    {
     "data": {
      "text/plain": [
       "Seq('GTGTCATTTTCATCTGACACCCCCAGGAAGCCAAAAGCTGGAAGTCTGAGTTCA...CAG', SingleLetterAlphabet())"
      ]
     },
     "execution_count": 20,
     "metadata": {},
     "output_type": "execute_result"
    }
   ],
   "source": [
    "sequenza = record1.seq\n",
    "sequenza"
   ]
  },
  {
   "cell_type": "code",
   "execution_count": 21,
   "metadata": {
    "collapsed": false
   },
   "outputs": [
    {
     "data": {
      "text/plain": [
       "Seq('CGTAACAAGGTTTCCGTAGGTGAACCTGCGGAAGGATCATTGTTGAGACAACAG...GGC', IUPACAmbiguousDNA())"
      ]
     },
     "execution_count": 21,
     "metadata": {},
     "output_type": "execute_result"
    }
   ],
   "source": [
    "sequenza2 = gb_records[1].seq\n",
    "sequenza2"
   ]
  },
  {
   "cell_type": "code",
   "execution_count": 22,
   "metadata": {
    "collapsed": false
   },
   "outputs": [
    {
     "name": "stdout",
     "output_type": "stream",
     "text": [
      "1023\n",
      "G\n",
      "T\n",
      "G\n",
      "T\n",
      "C\n",
      "A\n",
      "T\n",
      "T\n",
      "T\n",
      "Ultimo codone\n",
      "CAG\n"
     ]
    }
   ],
   "source": [
    "print(len(sequenza))\n",
    "for x in sequenza[0:9]:\n",
    "    print(x)\n",
    "print(\"Ultimo codone\")\n",
    "print(sequenza[-3:])"
   ]
  },
  {
   "cell_type": "code",
   "execution_count": 23,
   "metadata": {
    "collapsed": false
   },
   "outputs": [
    {
     "data": {
      "text/plain": [
       "'CGTAACAAGGTTTCCGTAGGTGAACCTGCGGAAGGATCATTGTTGAGACAACAGAATATATGATCGAGTGAATCTGGAGGACCTGTGGTAACTCAGCTCGTCGTGGCACTGCTTTTGTCGTGACCCTGCTTTGTTGTTGGGCCTCCTCAAGAGCTTTCATGGCAGGTTTGAACTTTAGTACGGTGCAGTTTGCGCCAAGTCATATAAAGCATCACTGATGAATGACATTATTGTCAGAAAAAATCAGAGGGGCAGTATGCTACTGAGCATGCCAGTGAATTTTTATGACTCTCGCAACGGATATCTTGGCTCTAACATCGATGAAGAACGCAGCTAAATGCGATAAGTGGTGTGAATTGCAGAATCCCGTGAACCATCGAGTCTTTGAACGCAAGTTGCGCTCGAGGCCATCAGGCTAAGGGCACGCCTGCCTGGGCGTCGTGTGTTGCGTCTCTCCTACCAATGCTTGCTTGGCATATCGCTAAGCTGGCATTATACGGATGTGAATGATTGGCCCCTTGTGCCTAGGTGCGGTGGGTCTAAGGATTGTTGCTTTGATGGGTAGGAATGTGGCACGAGGTGGAGAATGCTAACAGTCATAAGGCTGCTATTTGAATCCCCCATGTTGTTGTATTTTTTCGAACCTACACAAGAACCTAATTGAACCCCAATGGAGCTAAAATAACCATTGGGCAGTTGATTTCCATTCAGATGCGACCCCAGGTCAGGCGGGGCCACCCGCTGAGTTGAGGC'"
      ]
     },
     "execution_count": 23,
     "metadata": {},
     "output_type": "execute_result"
    }
   ],
   "source": [
    "stringa = str(sequenza2)\n",
    "stringa"
   ]
  },
  {
   "cell_type": "markdown",
   "metadata": {},
   "source": [
    "Concatenare due sequenze"
   ]
  },
  {
   "cell_type": "code",
   "execution_count": 24,
   "metadata": {
    "collapsed": false
   },
   "outputs": [
    {
     "data": {
      "text/plain": [
       "Seq('GTGTCATTTTCATCTGACACCCCCAGGAAGCCAAAAGCTGGAAGTCTGAGTTCA...GGC', SingleLetterAlphabet())"
      ]
     },
     "execution_count": 24,
     "metadata": {},
     "output_type": "execute_result"
    }
   ],
   "source": [
    "from Bio.Seq import Seq\n",
    "from Bio.Alphabet import IUPAC\n",
    "\n",
    "conc = sequenza + sequenza2\n",
    "conc"
   ]
  },
  {
   "cell_type": "code",
   "execution_count": 25,
   "metadata": {
    "collapsed": false
   },
   "outputs": [
    {
     "data": {
      "text/plain": [
       "Seq('GTGTCATTTTCATCTGACACCCCCAGGAAGCCAAAAGCTGGAAGTCTGAGTTCA...CAG', SingleLetterAlphabet())"
      ]
     },
     "execution_count": 25,
     "metadata": {},
     "output_type": "execute_result"
    }
   ],
   "source": [
    "sequenza"
   ]
  },
  {
   "cell_type": "code",
   "execution_count": 26,
   "metadata": {
    "collapsed": false
   },
   "outputs": [
    {
     "data": {
      "text/plain": [
       "Seq('CTGAACCAGGGTTTTGAGCTGGCTGAAGGATTCCTGCAGATGAACTTCTTTGGG...CAC', SingleLetterAlphabet())"
      ]
     },
     "execution_count": 26,
     "metadata": {},
     "output_type": "execute_result"
    }
   ],
   "source": [
    "sequenza.reverse_complement()"
   ]
  },
  {
   "cell_type": "markdown",
   "metadata": {},
   "source": [
    "Trascrizione"
   ]
  },
  {
   "cell_type": "code",
   "execution_count": 27,
   "metadata": {
    "collapsed": false
   },
   "outputs": [
    {
     "data": {
      "text/plain": [
       "Seq('GUGUCAUUUUCAUCUGACACCCCCAGGAAGCCAAAAGCUGGAAGUCUGAGUUCA...CAG', RNAAlphabet())"
      ]
     },
     "execution_count": 27,
     "metadata": {},
     "output_type": "execute_result"
    }
   ],
   "source": [
    "rna = sequenza.transcribe()\n",
    "rna"
   ]
  },
  {
   "cell_type": "markdown",
   "metadata": {},
   "source": [
    "Traduzione (in proteina)"
   ]
  },
  {
   "cell_type": "code",
   "execution_count": 28,
   "metadata": {
    "collapsed": false
   },
   "outputs": [
    {
     "data": {
      "text/plain": [
       "Seq('VSFSSDTPRKPKAGSLSSEFTDRFLAQEALDCTKALLEDERLVDDPHMTGECLH...LVQ', ExtendedIUPACProtein())"
      ]
     },
     "execution_count": 28,
     "metadata": {},
     "output_type": "execute_result"
    }
   ],
   "source": [
    "rna.translate()"
   ]
  },
  {
   "cell_type": "code",
   "execution_count": 29,
   "metadata": {
    "collapsed": false
   },
   "outputs": [
    {
     "data": {
      "text/plain": [
       "Seq('VSFSSDTPRKPKAGSLSSEFTDRFLAQEALDCTKALLEDERLVDDPHMTGECLH...LVQ', ExtendedIUPACProtein())"
      ]
     },
     "execution_count": 29,
     "metadata": {},
     "output_type": "execute_result"
    }
   ],
   "source": [
    "sequenza.translate()"
   ]
  },
  {
   "cell_type": "markdown",
   "metadata": {},
   "source": [
    "### Fastq"
   ]
  },
  {
   "cell_type": "code",
   "execution_count": 30,
   "metadata": {
    "collapsed": true
   },
   "outputs": [],
   "source": [
    "records = list(SeqIO.parse(\"data/illumina_full_range_original_illumina.fastq\", \"fastq\"))"
   ]
  },
  {
   "cell_type": "code",
   "execution_count": 31,
   "metadata": {
    "collapsed": false
   },
   "outputs": [
    {
     "data": {
      "text/plain": [
       "SeqRecord(seq=Seq('ACGTACGTACGTACGTACGTACGTACGTACGTACGTACGTACGTACGTACGTAC...ACG', SingleLetterAlphabet()), id='FAKE0005', name='FAKE0005', description='FAKE0005 Original version has PHRED scores from 0 to 62 inclusive (in that order)', dbxrefs=[])"
      ]
     },
     "execution_count": 31,
     "metadata": {},
     "output_type": "execute_result"
    }
   ],
   "source": [
    "records[0]"
   ]
  },
  {
   "cell_type": "code",
   "execution_count": null,
   "metadata": {
    "collapsed": true
   },
   "outputs": [],
   "source": []
  }
 ],
 "metadata": {
  "kernelspec": {
   "display_name": "Python 3",
   "language": "python",
   "name": "python3"
  },
  "language_info": {
   "codemirror_mode": {
    "name": "ipython",
    "version": 3
   },
   "file_extension": ".py",
   "mimetype": "text/x-python",
   "name": "python",
   "nbconvert_exporter": "python",
   "pygments_lexer": "ipython3",
   "version": "3.5.3"
  }
 },
 "nbformat": 4,
 "nbformat_minor": 2
}
