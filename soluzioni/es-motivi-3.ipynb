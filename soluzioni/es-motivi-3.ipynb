{
 "cells": [
  {
   "cell_type": "code",
   "execution_count": 1,
   "metadata": {
    "collapsed": true
   },
   "outputs": [],
   "source": [
    "from collections import Counter\n",
    "from itertools import product"
   ]
  },
  {
   "cell_type": "code",
   "execution_count": 2,
   "metadata": {
    "collapsed": false
   },
   "outputs": [],
   "source": [
    "with open('../data/Human_BRCA2_orthologues2.fa') as file: righe = file.readlines()"
   ]
  },
  {
   "cell_type": "code",
   "execution_count": 3,
   "metadata": {
    "collapsed": false
   },
   "outputs": [],
   "source": [
    "import re\n",
    "geni = []\n",
    "for riga in righe:\n",
    "    riga = riga.rstrip('\\n')\n",
    "    if re.match('^>', riga):\n",
    "        nuovo_gene = {'sequence': ''}\n",
    "        geni.append(nuovo_gene)\n",
    "        nuovo_gene['header'] = re.sub('^>', '', riga)\n",
    "    elif not re.match('^;', riga):\n",
    "        nuovo_gene['sequence'] = nuovo_gene['sequence'] + riga"
   ]
  },
  {
   "cell_type": "code",
   "execution_count": 12,
   "metadata": {
    "collapsed": true
   },
   "outputs": [],
   "source": [
    "lunghezza = 10\n",
    "sequenze = [gene['sequence'] for gene in geni][0:5]\n",
    "num_stringhe = len(sequenze)"
   ]
  },
  {
   "cell_type": "code",
   "execution_count": 13,
   "metadata": {
    "collapsed": false
   },
   "outputs": [],
   "source": [
    "def moda(lista):\n",
    "    c = ''\n",
    "    conta = Counter(lista)\n",
    "    val = max(conta.values())\n",
    "    for c in conta.keys():\n",
    "        if conta[c] == val:  \n",
    "            return {'carattere': c, 'valore': val}"
   ]
  },
  {
   "cell_type": "markdown",
   "metadata": {},
   "source": [
    "Una funzione che riceve un insieme di stringhe e calcola il suo consenso, restituendo un dizionario con chiavi ```stringa``` e ```valore```."
   ]
  },
  {
   "cell_type": "code",
   "execution_count": 14,
   "metadata": {
    "collapsed": true
   },
   "outputs": [],
   "source": [
    "def consenso(stringhe):\n",
    "    colonne = list(zip(*stringhe))\n",
    "    caratteri = ''.join([moda(col)['carattere'] for col in colonne])\n",
    "    valore = sum([moda(col)['valore'] for col in colonne])\n",
    "    return((caratteri, valore))"
   ]
  },
  {
   "cell_type": "code",
   "execution_count": 15,
   "metadata": {
    "collapsed": true
   },
   "outputs": [],
   "source": [
    "def sottostringhe(stringhe, inizio):\n",
    "     return [x[0][x[1]: x[1] + lunghezza] for x in zip(stringhe,inizio)]"
   ]
  },
  {
   "cell_type": "code",
   "execution_count": 16,
   "metadata": {
    "collapsed": false
   },
   "outputs": [],
   "source": [
    "def prossimi(prec, indice, massimi):\n",
    "    for livello in range(indice, -1, -1):\n",
    "        prec[livello] += 1\n",
    "        if prec[livello] < massimi[livello]:\n",
    "            for i in range(livello + 1, num_stringhe):\n",
    "                prec[i] = 0\n",
    "            return prec\n",
    "    return (None, None)   "
   ]
  },
  {
   "cell_type": "markdown",
   "metadata": {},
   "source": [
    "Calcola l'array dei punti di inizio, data la stringa di consenso"
   ]
  },
  {
   "cell_type": "code",
   "execution_count": 10,
   "metadata": {
    "collapsed": false
   },
   "outputs": [],
   "source": [
    "def distanza(s, t):\n",
    "    return len([p for p in zip(s,t) if p[0] != p[1]])"
   ]
  },
  {
   "cell_type": "code",
   "execution_count": 13,
   "metadata": {
    "collapsed": false
   },
   "outputs": [
    {
     "name": "stdout",
     "output_type": "stream",
     "text": [
      "1\n",
      "0\n",
      "1\n",
      "2\n"
     ]
    }
   ],
   "source": [
    "print(distanza('ACC', 'AGC'))\n",
    "print(distanza('ACC', 'ACC'))\n",
    "print(distanza('ACC', 'CCC'))\n",
    "print(distanza('CCT', 'CTG'))"
   ]
  },
  {
   "cell_type": "code",
   "execution_count": 15,
   "metadata": {
    "collapsed": true
   },
   "outputs": [],
   "source": [
    "def punto(stringa, consenso):\n",
    "    l = len(consenso)\n",
    "    distanze = [distanza(stringa[i : i + l], consenso) for i in range(len(stringa) - l +1)]\n",
    "    return distanze.index(min(distanze))"
   ]
  },
  {
   "cell_type": "code",
   "execution_count": 16,
   "metadata": {
    "collapsed": false
   },
   "outputs": [
    {
     "name": "stdout",
     "output_type": "stream",
     "text": [
      "1\n",
      "1\n",
      "2\n"
     ]
    }
   ],
   "source": [
    "print(punto('ACGACGACGACT', 'GGAG'))\n",
    "print(punto('ACGACTACGTAC', 'GGAG'))\n",
    "print(punto('ACGGACTACGAC', 'GGAG'))"
   ]
  },
  {
   "cell_type": "code",
   "execution_count": 17,
   "metadata": {
    "collapsed": true
   },
   "outputs": [],
   "source": [
    "def punti(stringhe, consenso):\n",
    "    return [punto(s, consenso) for s in stringhe]"
   ]
  },
  {
   "cell_type": "markdown",
   "metadata": {},
   "source": [
    "Calcolo il valore massimo teorico di ogni soluzione dove le prime ```quante``` stringhe sono fissate."
   ]
  },
  {
   "cell_type": "code",
   "execution_count": 17,
   "metadata": {
    "collapsed": true
   },
   "outputs": [],
   "source": [
    "def bound(stringhe, quante):\n",
    "    return consenso(stringhe[:quante])[1] + (num_stringhe - quante - 1) * lunghezza "
   ]
  },
  {
   "cell_type": "code",
   "execution_count": 18,
   "metadata": {
    "collapsed": false,
    "scrolled": false
   },
   "outputs": [],
   "source": [
    "def branch_and_bound():\n",
    "    punti_inizio = [0] * lunghezza\n",
    "    massimi = [4] * lunghezza\n",
    "    motivo = ''\n",
    "    max_valore = 0\n",
    "    while(punti_inizio[0] != None):\n",
    "        (soluzione, valore) = consenso(sottostringhe(sequenze, punti_inizio))\n",
    "        \n",
    "        if valore > max_valore:\n",
    "            max_valore = valore\n",
    "            motivo = soluzione\n",
    "            print(soluzione, valore, punti_inizio)\n",
    "        \n",
    "        if max_valore == num_stringhe * lunghezza:\n",
    "            return (motivo, max_valore)\n",
    "\n",
    "        for buone in range(num_stringhe - 1, -1, -1):\n",
    "            if bound(sequenze, buone) > valore:\n",
    "                break\n",
    "        \n",
    "        punti_inizio = prossimi(punti_inizio, buone, massimi)\n",
    "    \n",
    "        \n",
    "    return (motivo, max_valore)"
   ]
  },
  {
   "cell_type": "code",
   "execution_count": null,
   "metadata": {
    "collapsed": false,
    "scrolled": true
   },
   "outputs": [
    {
     "name": "stdout",
     "output_type": "stream",
     "text": [
      "ATGCCTTTAT 29 [0, 0, 0, 0, 0]\n",
      "ATGCCTTTAT 30 [0, 0, 0, 0, 164]\n",
      "ATGCCTTTAT 31 [0, 0, 0, 0, 502]\n",
      "ATGGCTTTTT 32 [0, 0, 0, 3, 0]\n",
      "ATGGCTATTG 33 [0, 0, 0, 3, 924]\n",
      "ATGGCTTTTG 34 [0, 0, 0, 8, 924]\n"
     ]
    }
   ],
   "source": [
    "%time print(branch_and_bound())"
   ]
  },
  {
   "cell_type": "code",
   "execution_count": null,
   "metadata": {
    "collapsed": false
   },
   "outputs": [],
   "source": [
    "[len(s) for s in sequenze]"
   ]
  },
  {
   "cell_type": "code",
   "execution_count": null,
   "metadata": {
    "collapsed": true
   },
   "outputs": [],
   "source": []
  }
 ],
 "metadata": {
  "kernelspec": {
   "display_name": "Python 3",
   "language": "python",
   "name": "python3"
  },
  "language_info": {
   "codemirror_mode": {
    "name": "ipython",
    "version": 3
   },
   "file_extension": ".py",
   "mimetype": "text/x-python",
   "name": "python",
   "nbconvert_exporter": "python",
   "pygments_lexer": "ipython3",
   "version": "3.5.3"
  }
 },
 "nbformat": 4,
 "nbformat_minor": 2
}
