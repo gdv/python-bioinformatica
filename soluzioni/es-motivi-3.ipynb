{
 "cells": [
  {
   "cell_type": "code",
   "execution_count": 13,
   "metadata": {
    "collapsed": true
   },
   "outputs": [],
   "source": [
    "from collections import Counter\n",
    "from itertools import product"
   ]
  },
  {
   "cell_type": "code",
   "execution_count": 14,
   "metadata": {
    "collapsed": false
   },
   "outputs": [],
   "source": [
    "with open('../data/Human_BRCA2_orthologues2.fa') as file: righe = file.readlines()"
   ]
  },
  {
   "cell_type": "code",
   "execution_count": 15,
   "metadata": {
    "collapsed": false
   },
   "outputs": [],
   "source": [
    "import re\n",
    "geni = []\n",
    "for riga in righe:\n",
    "    riga = riga.rstrip('\\n')\n",
    "    if re.match('^>', riga):\n",
    "        nuovo_gene = {'sequence': ''}\n",
    "        geni.append(nuovo_gene)\n",
    "        nuovo_gene['header'] = re.sub('^>', '', riga)\n",
    "    elif not re.match('^;', riga):\n",
    "        nuovo_gene['sequence'] = nuovo_gene['sequence'] + riga"
   ]
  },
  {
   "cell_type": "code",
   "execution_count": 16,
   "metadata": {
    "collapsed": true
   },
   "outputs": [],
   "source": [
    "lunghezza = 10\n",
    "sequenze = [gene['sequence'] for gene in geni][0:5]\n",
    "num_stringhe = len(sequenze)"
   ]
  },
  {
   "cell_type": "code",
   "execution_count": 17,
   "metadata": {
    "collapsed": false
   },
   "outputs": [],
   "source": [
    "def moda(lista):\n",
    "    c = ''\n",
    "    conta = Counter(lista)\n",
    "    val = max(conta.values())\n",
    "    for c in conta.keys():\n",
    "        if conta[c] == val:  \n",
    "            return {'carattere': c, 'valore': val}"
   ]
  },
  {
   "cell_type": "markdown",
   "metadata": {},
   "source": [
    "Una funzione che riceve un insieme di stringhe e calcola il suo consenso, restituendo un dizionario con chiavi ```stringa``` e ```valore```."
   ]
  },
  {
   "cell_type": "code",
   "execution_count": 18,
   "metadata": {
    "collapsed": true
   },
   "outputs": [],
   "source": [
    "def consenso(stringhe):\n",
    "    colonne = list(zip(*stringhe))\n",
    "    caratteri = ''.join([moda(col)['carattere'] for col in colonne])\n",
    "    valore = sum([moda(col)['valore'] for col in colonne])\n",
    "    return((caratteri, valore))"
   ]
  },
  {
   "cell_type": "code",
   "execution_count": 19,
   "metadata": {
    "collapsed": true
   },
   "outputs": [],
   "source": [
    "def sottostringhe(stringhe, inizio):\n",
    "     return [x[0][x[1]: x[1] + lunghezza] for x in zip(stringhe,inizio)]"
   ]
  },
  {
   "cell_type": "code",
   "execution_count": 51,
   "metadata": {
    "collapsed": false
   },
   "outputs": [],
   "source": [
    "def prossimi(prec, indice, massimi):\n",
    "    for livello in range(indice, -1, -1):\n",
    "        prec[livello] += 1\n",
    "        if prec[livello] < massimi[livello]:\n",
    "            for i in range(livello + 1, lunghezza):\n",
    "                prec[i] = 0\n",
    "            return prec\n",
    "    return None"
   ]
  },
  {
   "cell_type": "markdown",
   "metadata": {},
   "source": [
    "Calcola l'array dei punti di inizio, data la stringa di consenso"
   ]
  },
  {
   "cell_type": "code",
   "execution_count": 53,
   "metadata": {
    "collapsed": false
   },
   "outputs": [],
   "source": [
    "def uguali(s, t):\n",
    "    return len([p for p in zip(s,t) if p[0] == p[1]])"
   ]
  },
  {
   "cell_type": "code",
   "execution_count": 54,
   "metadata": {
    "collapsed": false
   },
   "outputs": [
    {
     "name": "stdout",
     "output_type": "stream",
     "text": [
      "2\n",
      "3\n",
      "2\n",
      "1\n"
     ]
    }
   ],
   "source": [
    "print(uguali('ACC', 'AGC'))\n",
    "print(uguali('ACC', 'ACC'))\n",
    "print(uguali('ACC', 'CCC'))\n",
    "print(uguali('CCT', 'CTG'))"
   ]
  },
  {
   "cell_type": "code",
   "execution_count": 55,
   "metadata": {
    "collapsed": true
   },
   "outputs": [],
   "source": [
    "def uguali2(stringhe, t):\n",
    "    return sum([uguali(s,t) for s in stringhe])"
   ]
  },
  {
   "cell_type": "code",
   "execution_count": 58,
   "metadata": {
    "collapsed": true
   },
   "outputs": [],
   "source": [
    "def punto(stringa, consenso):\n",
    "    l = len(consenso)\n",
    "    ok = [uguali(stringa[i : i + l], consenso) for i in range(len(stringa) - l +1)]\n",
    "    return ok.index(max(ok))"
   ]
  },
  {
   "cell_type": "code",
   "execution_count": 59,
   "metadata": {
    "collapsed": false
   },
   "outputs": [
    {
     "name": "stdout",
     "output_type": "stream",
     "text": [
      "1\n",
      "1\n",
      "2\n"
     ]
    }
   ],
   "source": [
    "print(punto('ACGACGACGACT', 'GGAG'))\n",
    "print(punto('ACGACTACGTAC', 'GGAG'))\n",
    "print(punto('ACGGACTACGAC', 'GGAG'))"
   ]
  },
  {
   "cell_type": "code",
   "execution_count": 26,
   "metadata": {
    "collapsed": true
   },
   "outputs": [],
   "source": [
    "def punti(stringhe, consenso):\n",
    "    return [punto(s, consenso) for s in stringhe]"
   ]
  },
  {
   "cell_type": "markdown",
   "metadata": {},
   "source": [
    "Trasforma un insieme di numeri fra 0 e 3 in una stringa sull'alfabeto ACGT."
   ]
  },
  {
   "cell_type": "code",
   "execution_count": 27,
   "metadata": {
    "collapsed": true
   },
   "outputs": [],
   "source": [
    "def simboli2stringa(simboli):\n",
    "    alfabeto = 'ACGT'\n",
    "    return ''.join([ alfabeto[x] for x in simboli])"
   ]
  },
  {
   "cell_type": "code",
   "execution_count": 28,
   "metadata": {
    "collapsed": false
   },
   "outputs": [
    {
     "name": "stdout",
     "output_type": "stream",
     "text": [
      "ACAG\n"
     ]
    }
   ],
   "source": [
    "print(simboli2stringa([0,1,0,2]))"
   ]
  },
  {
   "cell_type": "markdown",
   "metadata": {},
   "source": [
    "Calcolo il valore massimo teorico di ogni soluzione dove le prime ```quante``` stringhe sono fissate."
   ]
  },
  {
   "cell_type": "code",
   "execution_count": 65,
   "metadata": {
    "collapsed": false,
    "scrolled": false
   },
   "outputs": [],
   "source": [
    "def branch_and_bound():\n",
    "    simboli = [0] * lunghezza\n",
    "    massimi = [4] * lunghezza\n",
    "    motivo = ''\n",
    "    max_valore = 0\n",
    "    while(simboli != None):\n",
    "        soluzione = simboli2stringa(simboli)\n",
    "        punti_inizio = punti(sequenze, soluzione)\n",
    "#        print(\"  \" + soluzione)\n",
    "        estratte = sottostringhe(sequenze, punti_inizio)\n",
    "        valore = uguali2(estratte, soluzione)\n",
    "        \n",
    "        if valore > max_valore:\n",
    "            max_valore = valore\n",
    "            motivo = soluzione\n",
    "            print(soluzione, valore, punti_inizio)\n",
    "        \n",
    "        if max_valore == num_stringhe * lunghezza:\n",
    "            return (motivo, max_valore)\n",
    "\n",
    "        for buone in range(lunghezza - 1, -1, -1):\n",
    "            if uguali2(estratte, soluzione[:buone]) + num_stringhe * (lunghezza - buone) > valore:\n",
    "                break\n",
    "        \n",
    "        simboli = prossimi(simboli, buone, massimi)\n",
    "            \n",
    "    return (motivo, max_valore)"
   ]
  },
  {
   "cell_type": "code",
   "execution_count": 66,
   "metadata": {
    "collapsed": false,
    "scrolled": true
   },
   "outputs": [
    {
     "name": "stdout",
     "output_type": "stream",
     "text": [
      "AAAAAAAAAA 45 [596, 782, 633, 35, 1660]\n",
      "AAGATGTAAT 46 [853, 824, 37, 220, 934]\n",
      "CTGGAGATCT 47 [940, 265, 319, 307, 1021]\n",
      "('CTGGAGATCT', 47)\n",
      "CPU times: user 41min 24s, sys: 476 ms, total: 41min 24s\n",
      "Wall time: 41min 24s\n"
     ]
    }
   ],
   "source": [
    "%time print(branch_and_bound())"
   ]
  },
  {
   "cell_type": "code",
   "execution_count": null,
   "metadata": {
    "collapsed": true
   },
   "outputs": [],
   "source": []
  }
 ],
 "metadata": {
  "kernelspec": {
   "display_name": "Python 3",
   "language": "python",
   "name": "python3"
  },
  "language_info": {
   "codemirror_mode": {
    "name": "ipython",
    "version": 3
   },
   "file_extension": ".py",
   "mimetype": "text/x-python",
   "name": "python",
   "nbconvert_exporter": "python",
   "pygments_lexer": "ipython3",
   "version": "3.6.0"
  }
 },
 "nbformat": 4,
 "nbformat_minor": 2
}
