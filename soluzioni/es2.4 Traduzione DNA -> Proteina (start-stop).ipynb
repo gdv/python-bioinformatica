{
 "cells": [
  {
   "cell_type": "code",
   "execution_count": 32,
   "metadata": {
    "collapsed": false
   },
   "outputs": [],
   "source": [
    "with open('../data/esempio.fa') as file: righe = file.readlines()"
   ]
  },
  {
   "cell_type": "code",
   "execution_count": 33,
   "metadata": {
    "collapsed": false
   },
   "outputs": [],
   "source": [
    "import re\n",
    "geni = []\n",
    "for riga in righe:\n",
    "    riga = riga.rstrip('\\n')\n",
    "    if re.match('^>', riga):\n",
    "        nuovo_gene = {'sequence': ''}\n",
    "        geni.append(nuovo_gene)\n",
    "        nuovo_gene['header'] = re.sub('^>', '', riga)\n",
    "    elif not re.match('^;', riga):\n",
    "        nuovo_gene['sequence'] = nuovo_gene['sequence'] + riga"
   ]
  },
  {
   "cell_type": "markdown",
   "metadata": {
    "collapsed": true
   },
   "source": [
    "Incollo da wikipedia.\n",
    "Bisogna modificarla a mano, perchè lo start codon, M, W non hanno una forma compressa"
   ]
  },
  {
   "cell_type": "code",
   "execution_count": 34,
   "metadata": {
    "collapsed": true
   },
   "outputs": [],
   "source": [
    "tabella = \"\"\"\n",
    "Ala / A \tGCT, GCC, GCA, GCG \tGCN \tLeu / L \tTTA, TTG, CTT, CTC, CTA, CTG \tYTR, CTN\n",
    "Arg / R \tCGT, CGC, CGA, CGG, AGA, AGG \tCGN, MGR \tLys / K \tAAA, AAG \tAAR\n",
    "Asn / N \tAAT, AAC \tAAY \tMet / M \tATG \tATG\n",
    "Asp / D \tGAT, GAC \tGAY \tPhe / F \tTTT, TTC \tTTY\n",
    "Cys / C \tTGT, TGC \tTGY \tPro / P \tCCT, CCC, CCA, CCG \tCCN\n",
    "Gln / Q \tCAA, CAG \tCAR \tSer / S \tTCT, TCC, TCA, TCG, AGT, AGC \tTCN, AGY\n",
    "Glu / E \tGAA, GAG \tGAR \tThr / T \tACT, ACC, ACA, ACG \tACN\n",
    "Gly / G \tGGT, GGC, GGA, GGG \tGGN \tTrp / W \tTGG \tTGG\n",
    "His / H \tCAT, CAC \tCAY \tTyr / Y \tTAT, TAC \tTAY\n",
    "Ile / I \tATT, ATC, ATA \tATH \tVal / V \tGTT, GTC, GTA, GTG \tGTN\n",
    "_START_ \tATG\tATG \t_STOP_ \tTAA, TGA, TAG \tTAR, TRA\n",
    "\"\"\""
   ]
  },
  {
   "cell_type": "code",
   "execution_count": 35,
   "metadata": {
    "collapsed": false
   },
   "outputs": [],
   "source": [
    "righe = re.split(\"\\n\", tabella)"
   ]
  },
  {
   "cell_type": "code",
   "execution_count": 36,
   "metadata": {
    "collapsed": false
   },
   "outputs": [],
   "source": [
    "righe_divise = [re.split(\"\\t\", riga) for riga in righe if len(riga) > 1]"
   ]
  },
  {
   "cell_type": "code",
   "execution_count": 37,
   "metadata": {
    "collapsed": false
   },
   "outputs": [],
   "source": [
    "codice = {}\n",
    "for riga in righe_divise:\n",
    "    for codone in re.split(\",\", re.sub('\\s', '', riga[1])):  \n",
    "        codice[codone] = re.sub('(^.*\\/|\\s*)', '', riga[0])\n",
    "    for codone in re.split(\",\", re.sub('\\s', '', riga[4])):  \n",
    "        codice[codone] = re.sub('(^.*\\/|\\s*)', '', riga[3])"
   ]
  },
  {
   "cell_type": "code",
   "execution_count": 38,
   "metadata": {
    "collapsed": false
   },
   "outputs": [],
   "source": [
    "def traduci(dna):\n",
    "    proteina = ''\n",
    "    while (len(dna) >= 3):\n",
    "        codone = dna[0:3]\n",
    "        proteina += codice[codone]\n",
    "        dna = dna[3:]\n",
    "    return proteina\n",
    "\n",
    "def frame_strand(dna, frame, strand):\n",
    "    if strand == '-':\n",
    "            complemento = {'A': 'T', 'C': 'G', 'G': 'C', 'T': 'A',}\n",
    "            dna = \"\".join([complemento[carattere] for carattere in dna][::-1])\n",
    "    return dna[frame:]"
   ]
  },
  {
   "cell_type": "code",
   "execution_count": 46,
   "metadata": {
    "collapsed": false
   },
   "outputs": [],
   "source": [
    "for gene in geni:\n",
    "    for frame in [0, 1, 2]:\n",
    "        for strand in ['+', '-']:\n",
    "            tradotto = traduci(frame_strand(gene['sequence'], frame, strand)) \n",
    "            m = re.search('_START_.*_STOP_', tradotto)\n",
    "            if m:\n",
    "                gene['protein_' + str(frame) + strand] = m.group(0)"
   ]
  },
  {
   "cell_type": "code",
   "execution_count": 47,
   "metadata": {
    "collapsed": false
   },
   "outputs": [
    {
     "data": {
      "text/plain": [
       "[{'header': 'HSBGPG Human gene for bone gla protein (BGP)',\n",
       "  'protein_0+': '_START_PLLIAGHSPEGINSAGGWRGRPAES_STOP_AAAQRSHRDT_START_RALTLLALLALAALCIAGQAGECPHLPSGRIAVGAERRKHHGPPLLTPLAGSPFAV_STOP_PPCCRLNPFAPALPLQRERREEQAARDAGEGG_STOP_GPWG_STOP_AGVNQAPFPLQVRSPAVQSPAKVQV_STOP_GWT_STOP_WVPGPSPLTLVPQSHSPTPATSCLAIRKASLLPT_STOP_SSQTQSHL_START_PAPLLHSLCVQAGGQRGSEETQALPVS_START_AGVREKAELGQGPASPGWSVGELQQGVASLGCGGGTGSLPWWAPWSP_START_CRERRDGHFARGL_START_PPRRVSQSPSPLPGSPGAQEGGV_STOP_AQSGL_STOP_RVG_STOP_PHRLSGGLSALLRPGLGCRSAGLAGNPSSAPLQAPFFPLPLALALTSQPYGCGVPIIPAAPK_STOP_',\n",
       "  'protein_0-': '_START_D_STOP_ACNKVVRLQRDCQPKG_STOP_EEVGHGASSSQPPLQCGLRGGGGTHLPGQRCKVRPGPIGRGV_STOP_GLSWCLGGCAGLLLRTQLACPASLQHCLYPLGCAQR_STOP_',\n",
       "  'protein_1+': '_START_AHLFSPLWLAVPLQSNHLVAGSIHLPQLCPCRGRGGKSKLPETQGKEDEGPGDELG_STOP_TRLPFLCRCEAQRCRVQQRCRYEDGPDGFLDPPLSPWSLSLIPPLLPPPVWPSGRPACSPPDPPKPRAT_STOP_CLPLCSTAFVSKQEGSEVVKRPRRYLYQWLG_STOP_EKRQSWAKALPLRDGLWGSCSREWPLWVVVGVQAACPGGHPGAPCVGRGG_START_GILHGG_STOP_CHHVGCLRAPVPYPDPLEPRREVCELNPDCDELADHIGFQEAYRRFYGPV_STOP_GVALLAWPATPVLLLSRHPSFLFPLPLP_STOP_',\n",
       "  'protein_1-': '_START_WSANSSQSGLSSHTSLLGSRGSG_STOP_GTGALRHPTWWHQPPCK_START_PIPPLPTHGAPGCPPGQAACTPTTTQRGHSLLQLPHRPSRRGRALAQLCLFSHPSH_STOP_YR_STOP_RLGLFTTSLPSCLDTKAVEQRGRHQVALGLGGSGGEQAGLPDGQTGGGRSGG_START_RLRDQGERGGSRNPSGPSSYLHLCWTLHRWASHLQRKGSLVHPSSSPGPSSSFPCVSGSLLFPPLPLQGQSWGKWIEPATRWLDCKGTASQRGEKRWA_START_VLPPLSPHCNAA_STOP_GEVGALTCLASDAKCGQGQ_STOP_GEECEGSHGVSVAALGCCSGLSWPAPPASSTVYTLWAVPSDEEGHA_STOP_PWCGRV_STOP_',\n",
       "  'protein_2+': '_START_VRHAPPHRWAQPRGYKQCWRLAGQAS_STOP_VLSSSPAQPPRHHESPHTPRPIGPGRTLHRWPGR_STOP_VPPPPLRPHCSGG_STOP_EEEAPWPTSSHPFGWQSLCSLTTLLQAQSICPSSALAEGEEGRASCPRRRGRR_START_RALG_START_SWGEPGSLSFAGAKPSGAESSKGAG_START_R_START_DL_START_GSWTLPSHPGPSVSFPHSCHLLSGHQEGQPAPHLILPNPEPPDACPSAPQPLCPSRRAAR_STOP__STOP_RDPGATCINGWGERKGRAGPRPCLSG_START_VCGGAAAGSGLSGLWWGYRQPALVGTLEPHV_STOP_',\n",
       "  'protein_2-': '_START__START_GTPHP_STOP_GWEVRARARGRGKKGAWRGAELGLPARPAERHPRPGRRSADRPPESRCGQPTRHSPD_STOP_AHTPPSWAPGDPGRGLGL_STOP_DTRRGGISPRAKCPSLLSLH_START_GLQGAHQGRLPVPPPQPREATPCCSSPTDHPGEAGPWPSSAFSLTPAIDTGSAWVSSLPRCPPAWTQRLWSRGAGIRWLWVWEDQVGSRLAFL_START_ARQEVAGVGE_STOP_D_STOP_GTRVRGEGPGTHQVHPHTCTFAGLCTAGLRTCKGKGAWFTPAHPQGPHPPSPASRAACSSLLSLCKGRAGANGLSLQQGG_STOP_',\n",
       "  'sequence': 'GGCAGATTCCCCCTAGACCCGCCCGCACCATGGTCAGGCATGCCCCTCCTCATCGCTGGGCACAGCCCAGAGGGTATAAACAGTGCTGGAGGCTGGCGGGGCAGGCCAGCTGAGTCCTGAGCAGCAGCCCAGCGCAGCCACCGAGACACCATGAGAGCCCTCACACTCCTCGCCCTATTGGCCCTGGCCGCACTTTGCATCGCTGGCCAGGCAGGTGAGTGCCCCCACCTCCCCTCAGGCCGCATTGCAGTGGGGGCTGAGAGGAGGAAGCACCATGGCCCACCTCTTCTCACCCCTTTGGCTGGCAGTCCCTTTGCAGTCTAACCACCTTGTTGCAGGCTCAATCCATTTGCCCCAGCTCTGCCCTTGCAGAGGGAGAGGAGGGAAGAGCAAGCTGCCCGAGACGCAGGGGAAGGAGGATGAGGGCCCTGGGGATGAGCTGGGGTGAACCAGGCTCCCTTTCCTTTGCAGGTGCGAAGCCCAGCGGTGCAGAGTCCAGCAAAGGTGCAGGTATGAGGATGGACCTGATGGGTTCCTGGACCCTCCCCTCTCACCCTGGTCCCTCAGTCTCATTCCCCCACTCCTGCCACCTCCTGTCTGGCCATCAGGAAGGCCAGCCTGCTCCCCACCTGATCCTCCCAAACCCAGAGCCACCTGATGCCTGCCCCTCTGCTCCACAGCCTTTGTGTCCAAGCAGGAGGGCAGCGAGGTAGTGAAGAGACCCAGGCGCTACCTGTATCAATGGCTGGGGTGAGAGAAAAGGCAGAGCTGGGCCAAGGCCCTGCCTCTCCGGGATGGTCTGTGGGGGAGCTGCAGCAGGGAGTGGCCTCTCTGGGTTGTGGTGGGGGTACAGGCAGCCTGCCCTGGTGGGCACCCTGGAGCCCCATGTGTAGGGAGAGGAGGGATGGGCATTTTGCACGGGGGCTGATGCCACCACGTCGGGTGTCTCAGAGCCCCAGTCCCCTACCCGGATCCCCTGGAGCCCAGGAGGGAGGTGTGTGAGCTCAATCCGGACTGTGACGAGTTGGCTGACCACATCGGCTTTCAGGAGGCCTATCGGCGCTTCTACGGCCCGGTCTAGGGTGTCGCTCTGCTGGCCTGGCCGGCAACCCCAGTTCTGCTCCTCTCCAGGCACCCTTCTTTCCTCTTCCCCTTGCCCTTGCCCTGACCTCCCAGCCCTATGGATGTGGGGTCCCCATCATCCCAGCTGCTCCCAAATAAACTCCAGAAG'},\n",
       " {'header': 'HSGLTH1 Human theta 1-globin gene',\n",
       "  'protein_1+': '_START_ALSAEDRALVRALWKKLGSNVGVYTTEALERCGRLGAPAPRGPPSPSPPDAPHPRSSRRTFLAFPATKTYFSHLDLSPGSSQVRAHGQKVADALSLAVERLDDLPHALSALSHLHACQLRVDPASFQVSGCRAGPLSPGGPRRGGCGGRAGRVQASEP_STOP_ALAAAPGPLPAGNPRPALPRRLQPRAAGVAGQVPEPRYLGAGFRVPLNCGWVAAGSPGDLPRV_STOP_',\n",
       "  'protein_2-': '_START_VFSLY_STOP_',\n",
       "  'sequence': 'CCACTGCACTCACCGCACCCGGCCAATTTTTGTGTTTTTAGTAGAGACTAAATACCATATAGTGAACACCTAAGACGGGGGGCCTTGGATCCAGGGCGATTCAGAGGGCCCCGGTCGGAGCTGTCGGAGATTGAGCGCGCGCGGTCCCGGGATCTCCGACGAGGCCCTGGACCCCCGGGCGGCGAAGCTGCGGCGCGGCGCCCCCTGGAGGCCGCGGGACCCCTGGCCGGTCCGCGCAGGCGCAGCGGGGTCGCAGGGCGCGGCGGGTTCCAGCGCGGGGATGGCGCTGTCCGCGGAGGACCGGGCGCTGGTGCGCGCCCTGTGGAAGAAGCTGGGCAGCAACGTCGGCGTCTACACGACAGAGGCCCTGGAAAGGTGCGGCAGGCTGGGCGCCCCCGCCCCCAGGGGCCCTCCCTCCCCAAGCCCCCCGGACGCGCCTCACCCACGTTCCTCTCGCAGGACCTTCCTGGCTTTCCCCGCCACGAAGACCTACTTCTCCCACCTGGACCTGAGCCCCGGCTCCTCACAAGTCAGAGCCCACGGCCAGAAGGTGGCGGACGCGCTGAGCCTCGCCGTGGAGCGCCTGGACGACCTACCCCACGCGCTGTCCGCGCTGAGCCACCTGCACGCGTGCCAGCTGCGAGTGGACCCGGCCAGCTTCCAGGTGAGCGGCTGCCGTGCTGGGCCCCTGTCCCCGGGAGGGCCCCGGCGGGGTGGGTGCGGGGGGCGTGCGGGGCGGGTGCAGGCGAGTGAGCCTTGAGCGCTCGCCGCAGCTCCTGGGCCACTGCCTGCTGGTAACCCTCGCCCGGCACTACCCCGGAGACTTCAGCCCCGCGCTGCAGGCGTCGCTGGACAAGTTCCTGAGCCACGTTATCTCGGCGCTGGTTTCCGAGTACCGCTGAACTGTGGGTGGGTGGCCGCGGGATCCCCAGGCGACCTTCCCCGTGTTTGAGTAAAGCCTCTCCCAGGAGCAGCCTTCTTGCCGTGCTCTCTCGAGGTCAGGACGCGAGAGGAAGGCGC'}]"
      ]
     },
     "execution_count": 47,
     "metadata": {},
     "output_type": "execute_result"
    }
   ],
   "source": [
    "geni"
   ]
  },
  {
   "cell_type": "markdown",
   "metadata": {
    "collapsed": true
   },
   "source": [
    "Considerare sequenze che si fermano al primo codone di stop\n",
    "\n",
    "Considerare tutte le possibili coppie start/stop"
   ]
  }
 ],
 "metadata": {
  "kernelspec": {
   "display_name": "Python 3",
   "language": "python",
   "name": "python3"
  },
  "language_info": {
   "codemirror_mode": {
    "name": "ipython",
    "version": 3
   },
   "file_extension": ".py",
   "mimetype": "text/x-python",
   "name": "python",
   "nbconvert_exporter": "python",
   "pygments_lexer": "ipython3",
   "version": "3.5.2+"
  }
 },
 "nbformat": 4,
 "nbformat_minor": 2
}
