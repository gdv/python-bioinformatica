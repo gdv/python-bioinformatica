{
 "cells": [
  {
   "cell_type": "code",
   "execution_count": 7,
   "metadata": {},
   "outputs": [
    {
     "data": {
      "text/plain": [
       "'1221'"
      ]
     },
     "execution_count": 7,
     "metadata": {},
     "output_type": "execute_result"
    }
   ],
   "source": [
    "import re\n",
    "m = re.search(\"(\\d+)\", \"testo lungo che contiene numeri (1221) e parole. nome.cognome2@unimib.it\")\n",
    "m.group(0)"
   ]
  },
  {
   "cell_type": "markdown",
   "metadata": {},
   "source": [
    "We are working on the file [MicrobiomeMetadataDictionary.csv](https://github.com/gdv/python-bioinformatica/raw/master/data/MicrobiomeMetadataDictionary.csv)"
   ]
  },
  {
   "cell_type": "code",
   "execution_count": 5,
   "metadata": {},
   "outputs": [
    {
     "data": {
      "text/plain": [
       "{'Sex': {'0': 'Male', '1': 'Female'},\n",
       " 'Donor': {'0': 'HMouseLFPP',\n",
       "  '1': 'CONVR',\n",
       "  '2': 'Human',\n",
       "  '3': 'Fresh',\n",
       "  '4': 'Frozen',\n",
       "  '5': 'HMouseWestern',\n",
       "  '6': 'CONVD'},\n",
       " 'Diet': {'0': 'LFPP',\n",
       "  '1': 'Western',\n",
       "  '2': 'CARBR',\n",
       "  '3': 'FATR',\n",
       "  '4': 'Suckling',\n",
       "  '5': 'Human'},\n",
       " 'Source': {'0': 'Cecum1',\n",
       "  '1': 'Cecum2',\n",
       "  '2': 'Colon1',\n",
       "  '3': 'Colon2',\n",
       "  '4': 'Feces',\n",
       "  '5': 'SI1',\n",
       "  '6': 'SI13',\n",
       "  '7': 'SI15',\n",
       "  '8': 'SI2',\n",
       "  '9': 'SI5',\n",
       "  '10': 'SI9',\n",
       "  '11': 'Stomach',\n",
       "  '12': 'Cecum'},\n",
       " 'CollectionMet': {'0': 'Contents', '1': 'Scraping'}}"
      ]
     },
     "execution_count": 5,
     "metadata": {},
     "output_type": "execute_result"
    }
   ],
   "source": [
    "df9 = {}\n",
    "with open('../data/MicrobiomeMetadataDictionary.csv') as file:\n",
    "    righe = file.readlines()\n",
    "\n",
    "for riga in righe:\n",
    "    m = re.search(\"(.+),$\", riga)\n",
    "    if m:\n",
    "        tabella = {}\n",
    "        df9[m.group(1)] = tabella\n",
    "    m = re.search(\"(.+),(.+)$\", riga)\n",
    "    if m:\n",
    "        tabella[m.group(1)] = m.group(2)\n",
    "    m = re.search(\"^,$\", riga)\n",
    "\n",
    "df9"
   ]
  },
  {
   "cell_type": "code",
   "execution_count": 8,
   "metadata": {
    "tags": []
   },
   "outputs": [],
   "source": [
    "testo = '\"BRCA2-001\",\"ENST00000380152.7\",\"11986\",\"3418aa\",\"ENSP00000369497\",\" Protein coding\",\"CCDS9344\",\"P51587\",\"-\",\"TSL:5GENCODE basicAPPRIS P1\"'"
   ]
  },
  {
   "cell_type": "code",
   "execution_count": 9,
   "metadata": {},
   "outputs": [
    {
     "data": {
      "text/plain": [
       "'\"BRCA2-001\",\"ENST00000380152.7\",\"11986\",\"3418aa\",\"ENSP00000369497\",\" Protein coding\",\"CCDS9344\",\"P51587\",\"-\",\"TSL:5GENCODE basicAPPRIS P1\"'"
      ]
     },
     "execution_count": 9,
     "metadata": {},
     "output_type": "execute_result"
    }
   ],
   "source": [
    "testo"
   ]
  },
  {
   "cell_type": "code",
   "execution_count": 10,
   "metadata": {},
   "outputs": [],
   "source": [
    "m = re.search(\"ENST\\d+.*EN(SP(\\d+))\", testo)"
   ]
  },
  {
   "cell_type": "code",
   "execution_count": 11,
   "metadata": {},
   "outputs": [
    {
     "data": {
      "text/plain": [
       "'ENST00000380152.7\",\"11986\",\"3418aa\",\"ENSP00000369497'"
      ]
     },
     "execution_count": 11,
     "metadata": {},
     "output_type": "execute_result"
    }
   ],
   "source": [
    "m.group(0)"
   ]
  },
  {
   "cell_type": "code",
   "execution_count": 12,
   "metadata": {},
   "outputs": [
    {
     "data": {
      "text/plain": [
       "'SP00000369497'"
      ]
     },
     "execution_count": 12,
     "metadata": {},
     "output_type": "execute_result"
    }
   ],
   "source": [
    "m.group(1)"
   ]
  },
  {
   "cell_type": "code",
   "execution_count": 13,
   "metadata": {},
   "outputs": [
    {
     "data": {
      "text/plain": [
       "'00000369497'"
      ]
     },
     "execution_count": 13,
     "metadata": {},
     "output_type": "execute_result"
    }
   ],
   "source": [
    "m.group(2)"
   ]
  },
  {
   "cell_type": "code",
   "execution_count": 14,
   "metadata": {},
   "outputs": [
    {
     "data": {
      "text/plain": [
       "['ENST00000380152']"
      ]
     },
     "execution_count": 14,
     "metadata": {},
     "output_type": "execute_result"
    }
   ],
   "source": [
    "re.findall(\"ENST\\d+\", testo)"
   ]
  }
 ],
 "metadata": {
  "kernelspec": {
   "display_name": "Python 3 (ipykernel)",
   "language": "python",
   "name": "python3"
  },
  "language_info": {
   "codemirror_mode": {
    "name": "ipython",
    "version": 3
   },
   "file_extension": ".py",
   "mimetype": "text/x-python",
   "name": "python",
   "nbconvert_exporter": "python",
   "pygments_lexer": "ipython3",
   "version": "3.10.2"
  }
 },
 "nbformat": 4,
 "nbformat_minor": 4
}
