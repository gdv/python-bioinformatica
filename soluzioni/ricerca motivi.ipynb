{
 "cells": [
  {
   "cell_type": "code",
   "execution_count": 35,
   "metadata": {
    "collapsed": true
   },
   "outputs": [],
   "source": [
    "l = 3\n",
    "import itertools"
   ]
  },
  {
   "cell_type": "code",
   "execution_count": 51,
   "metadata": {},
   "outputs": [],
   "source": [
    "def extend(s):\n",
    "    new_lista = []\n",
    "    if len(s) < l:\n",
    "        for t in [s + c for c in 'ACGT']:\n",
    "            new_lista += extend(t)\n",
    "        return new_lista\n",
    "    else:\n",
    "        return  [ s ]\n",
    "            "
   ]
  },
  {
   "cell_type": "code",
   "execution_count": 53,
   "metadata": {},
   "outputs": [
    {
     "data": {
      "text/plain": [
       "['AAA',\n",
       " 'AAC',\n",
       " 'AAG',\n",
       " 'AAT',\n",
       " 'ACA',\n",
       " 'ACC',\n",
       " 'ACG',\n",
       " 'ACT',\n",
       " 'AGA',\n",
       " 'AGC',\n",
       " 'AGG',\n",
       " 'AGT',\n",
       " 'ATA',\n",
       " 'ATC',\n",
       " 'ATG',\n",
       " 'ATT',\n",
       " 'CAA',\n",
       " 'CAC',\n",
       " 'CAG',\n",
       " 'CAT',\n",
       " 'CCA',\n",
       " 'CCC',\n",
       " 'CCG',\n",
       " 'CCT',\n",
       " 'CGA',\n",
       " 'CGC',\n",
       " 'CGG',\n",
       " 'CGT',\n",
       " 'CTA',\n",
       " 'CTC',\n",
       " 'CTG',\n",
       " 'CTT',\n",
       " 'GAA',\n",
       " 'GAC',\n",
       " 'GAG',\n",
       " 'GAT',\n",
       " 'GCA',\n",
       " 'GCC',\n",
       " 'GCG',\n",
       " 'GCT',\n",
       " 'GGA',\n",
       " 'GGC',\n",
       " 'GGG',\n",
       " 'GGT',\n",
       " 'GTA',\n",
       " 'GTC',\n",
       " 'GTG',\n",
       " 'GTT',\n",
       " 'TAA',\n",
       " 'TAC',\n",
       " 'TAG',\n",
       " 'TAT',\n",
       " 'TCA',\n",
       " 'TCC',\n",
       " 'TCG',\n",
       " 'TCT',\n",
       " 'TGA',\n",
       " 'TGC',\n",
       " 'TGG',\n",
       " 'TGT',\n",
       " 'TTA',\n",
       " 'TTC',\n",
       " 'TTG',\n",
       " 'TTT']"
      ]
     },
     "execution_count": 53,
     "metadata": {},
     "output_type": "execute_result"
    }
   ],
   "source": [
    "list(extend(''))"
   ]
  },
  {
   "cell_type": "code",
   "execution_count": 31,
   "metadata": {},
   "outputs": [
    {
     "name": "stdout",
     "output_type": "stream",
     "text": [
      "AAA\n",
      "AAC\n",
      "AAG\n",
      "AAT\n",
      "ACA\n",
      "ACC\n",
      "ACG\n",
      "ACT\n",
      "AGA\n",
      "AGC\n",
      "AGG\n",
      "AGT\n",
      "ATA\n",
      "ATC\n",
      "ATG\n",
      "ATT\n",
      "CAA\n",
      "CAC\n",
      "CAG\n",
      "CAT\n",
      "CCA\n",
      "CCC\n",
      "CCG\n",
      "CCT\n",
      "CGA\n",
      "CGC\n",
      "CGG\n",
      "CGT\n",
      "CTA\n",
      "CTC\n",
      "CTG\n",
      "CTT\n",
      "GAA\n",
      "GAC\n",
      "GAG\n",
      "GAT\n",
      "GCA\n",
      "GCC\n",
      "GCG\n",
      "GCT\n",
      "GGA\n",
      "GGC\n",
      "GGG\n",
      "GGT\n",
      "GTA\n",
      "GTC\n",
      "GTG\n",
      "GTT\n",
      "TAA\n",
      "TAC\n",
      "TAG\n",
      "TAT\n",
      "TCA\n",
      "TCC\n",
      "TCG\n",
      "TCT\n",
      "TGA\n",
      "TGC\n",
      "TGG\n",
      "TGT\n",
      "TTA\n",
      "TTC\n",
      "TTG\n",
      "TTT\n"
     ]
    }
   ],
   "source": [
    "lista = ['']\n",
    "\n",
    "while len(lista) > 0:\n",
    "    primo = lista.pop(0)\n",
    "    if len(primo) == l:\n",
    "        print(primo)\n",
    "    else:\n",
    "        lista.extend([primo + c for c in 'ACGT'])\n"
   ]
  },
  {
   "cell_type": "code",
   "execution_count": 19,
   "metadata": {},
   "outputs": [
    {
     "name": "stdout",
     "output_type": "stream",
     "text": [
      "Object `lista.extend` not found.\n"
     ]
    }
   ],
   "source": [
    "lista.extend?"
   ]
  },
  {
   "cell_type": "code",
   "execution_count": 20,
   "metadata": {},
   "outputs": [
    {
     "name": "stdout",
     "output_type": "stream",
     "text": [
      "ACA\n",
      "ACC\n",
      "ACG\n",
      "ACT\n"
     ]
    }
   ],
   "source": [
    "extend('AC')"
   ]
  },
  {
   "cell_type": "code",
   "execution_count": 21,
   "metadata": {},
   "outputs": [
    {
     "name": "stdout",
     "output_type": "stream",
     "text": [
      "A\n",
      "AA\n",
      "AAA\n",
      "AAC\n",
      "AAG\n",
      "AAT\n",
      "AC\n",
      "ACA\n",
      "ACC\n",
      "ACG\n",
      "ACT\n",
      "AG\n",
      "AGA\n",
      "AGC\n",
      "AGG\n",
      "AGT\n",
      "AT\n",
      "ATA\n",
      "ATC\n",
      "ATG\n",
      "ATT\n",
      "C\n",
      "CA\n",
      "CAA\n",
      "CAC\n",
      "CAG\n",
      "CAT\n",
      "CC\n",
      "CCA\n",
      "CCC\n",
      "CCG\n",
      "CCT\n",
      "CG\n",
      "CGA\n",
      "CGC\n",
      "CGG\n",
      "CGT\n",
      "CT\n",
      "CTA\n",
      "CTC\n",
      "CTG\n",
      "CTT\n",
      "G\n",
      "GA\n",
      "GAA\n",
      "GAC\n",
      "GAG\n",
      "GAT\n",
      "GC\n",
      "GCA\n",
      "GCC\n",
      "GCG\n",
      "GCT\n",
      "GG\n",
      "GGA\n",
      "GGC\n",
      "GGG\n",
      "GGT\n",
      "GT\n",
      "GTA\n",
      "GTC\n",
      "GTG\n",
      "GTT\n",
      "T\n",
      "TA\n",
      "TAA\n",
      "TAC\n",
      "TAG\n",
      "TAT\n",
      "TC\n",
      "TCA\n",
      "TCC\n",
      "TCG\n",
      "TCT\n",
      "TG\n",
      "TGA\n",
      "TGC\n",
      "TGG\n",
      "TGT\n",
      "TT\n",
      "TTA\n",
      "TTC\n",
      "TTG\n",
      "TTT\n"
     ]
    }
   ],
   "source": [
    "extend('')"
   ]
  },
  {
   "cell_type": "code",
   "execution_count": 3,
   "metadata": {
    "collapsed": true
   },
   "outputs": [],
   "source": [
    "def distanza_hamming(s1, s2):\n",
    "    return len([ a+b for (a,b) in zip(s1, s2) if a!=b ])"
   ]
  },
  {
   "cell_type": "code",
   "execution_count": 100,
   "metadata": {},
   "outputs": [],
   "source": [
    "stringhe = [ \"ACCGACGTAGGTAGTATT\", \"ACGTATATAATGATCGTATATGCGACTGGCATTATT\", \"AGACGATCTGATTACTGCTGATGCATGGGT\", \"GGTAGGGCGAGATGCAGC\"]"
   ]
  },
  {
   "cell_type": "code",
   "execution_count": 101,
   "metadata": {
    "collapsed": true
   },
   "outputs": [],
   "source": [
    "def costo_singolo(stringa, motivo):\n",
    "    # la minima distanza di Hamming fra motivo e ogni sottostringa di *stringa*\n",
    "    return min([distanza_hamming(stringa[i:i + len(motivo)], motivo) for i in range(len(stringa) - len(motivo) + 1)])\n",
    "    \n",
    "def costo_totale(stringhe, motivo):\n",
    "    return sum([costo_singolo(stringa, motivo) for stringa in stringhe])"
   ]
  },
  {
   "cell_type": "code",
   "execution_count": 102,
   "metadata": {},
   "outputs": [
    {
     "data": {
      "text/plain": [
       "3"
      ]
     },
     "execution_count": 102,
     "metadata": {},
     "output_type": "execute_result"
    }
   ],
   "source": [
    "costo_totale(stringhe, \"ACC\")"
   ]
  },
  {
   "cell_type": "markdown",
   "metadata": {},
   "source": [
    "# Procedura\n",
    "\n",
    "tenere traccia del possibile motivo (stringa lunga *l*) che corrisponde al valore minimo di **costo_totale**."
   ]
  },
  {
   "cell_type": "code",
   "execution_count": 103,
   "metadata": {
    "collapsed": true
   },
   "outputs": [],
   "source": [
    "def prossimo(s, pos):\n",
    "    next_car = { 'A': 'C', 'C': 'G', 'G': 'T'}\n",
    "    if pos >= len(s):\n",
    "            return s + 'A'\n",
    "   # Posso assumere che pos < len(s)\n",
    "    # quindi il carattere s[pos] esiste\n",
    "    while pos >= 0 and s[pos] == 'T':\n",
    "        pos -= 1\n",
    "    if pos >= 0:\n",
    "        return s[:pos] + next_car[s[pos]]\n",
    "    else:\n",
    "        return ''"
   ]
  },
  {
   "cell_type": "code",
   "execution_count": 104,
   "metadata": {},
   "outputs": [
    {
     "name": "stdout",
     "output_type": "stream",
     "text": [
      "AAAAAAAAAA: 26\n",
      "AAAAAAAAAC: 24\n",
      "AAAAAAAAAG: 23\n",
      "AAAAAAAAAT: 22\n",
      "AAAAAAAATG: 21\n",
      "AAAAAAAGAT: 19\n",
      "AAAAAATGAT: 18\n",
      "AAAAAGTGAT: 17\n",
      "AAAATGCAGG: 16\n",
      "AAAGATCGTA: 15\n",
      "AACGATCTGA: 14\n",
      "AAGATCGGAT: 13\n",
      "AGATCGTATT: 12\n",
      "Motivo: AGATCGTATT, costo totale 12\n",
      "Stringhe calcolate: 57496 su 1048576 possibili\n"
     ]
    }
   ],
   "source": [
    "l = 10\n",
    "motivo = prossimo('', l)\n",
    "bound = l * len(stringhe)\n",
    "migliore = ''\n",
    "strighe_visitate = 0\n",
    "\n",
    "while motivo != '':\n",
    "    strighe_visitate += 1\n",
    "\n",
    "    if costo_totale(stringhe, motivo) < bound:\n",
    "        if len(motivo) == l:\n",
    "            migliore = motivo\n",
    "            bound = costo_totale(stringhe, motivo)\n",
    "            print(motivo + \": \" + str(bound))\n",
    "            motivo = prossimo(motivo, l - 1)\n",
    "        else:\n",
    "            motivo = prossimo(motivo, len(motivo))\n",
    "    else:\n",
    "        motivo = prossimo(motivo, len(motivo) - 1)\n",
    "\n",
    "print(\"Motivo: \" + migliore + \", costo totale \" + str(bound))\n",
    "print(\"Stringhe calcolate: \" + str(strighe_visitate) + \" su \" + str(4**l) + \" possibili\" )"
   ]
  },
  {
   "cell_type": "code",
   "execution_count": null,
   "metadata": {
    "collapsed": true
   },
   "outputs": [],
   "source": []
  }
 ],
 "metadata": {
  "kernelspec": {
   "display_name": "Python 3",
   "language": "python",
   "name": "python3"
  },
  "language_info": {
   "codemirror_mode": {
    "name": "ipython",
    "version": 3
   },
   "file_extension": ".py",
   "mimetype": "text/x-python",
   "name": "python",
   "nbconvert_exporter": "python",
   "pygments_lexer": "ipython3",
   "version": "3.6.2"
  }
 },
 "nbformat": 4,
 "nbformat_minor": 2
}
